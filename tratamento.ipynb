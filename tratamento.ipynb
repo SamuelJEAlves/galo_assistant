{
 "cells": [
  {
   "cell_type": "code",
   "execution_count": null,
   "metadata": {},
   "outputs": [
    {
     "name": "stdout",
     "output_type": "stream",
     "text": [
      "WARNING:tensorflow:From c:\\Users\\samue\\AppData\\Local\\Programs\\Python\\Python311\\Lib\\site-packages\\tf_keras\\src\\losses.py:2976: The name tf.losses.sparse_softmax_cross_entropy is deprecated. Please use tf.compat.v1.losses.sparse_softmax_cross_entropy instead.\n",
      "\n"
     ]
    }
   ],
   "source": [
    "import re\n",
    "import glob\n",
    "import pandas as pd\n",
    "import uuid\n",
    "\n",
    "from langchain_community.document_loaders import PyMuPDFLoader\n",
    "\n",
    "from tqdm import tqdm"
   ]
  },
  {
   "cell_type": "code",
   "execution_count": 2,
   "metadata": {},
   "outputs": [
    {
     "name": "stdout",
     "output_type": "stream",
     "text": [
      "Total de PDFs encontrados: 25\n"
     ]
    }
   ],
   "source": [
    "base = 'documentos/'\n",
    "\n",
    "documentos = glob.glob(f'{base}/**/*.pdf', recursive=True)\n",
    "print(f\"Total de PDFs encontrados: {len(documentos)}\")"
   ]
  },
  {
   "cell_type": "code",
   "execution_count": 3,
   "metadata": {},
   "outputs": [
    {
     "name": "stderr",
     "output_type": "stream",
     "text": [
      "  8%|▊         | 2/25 [00:00<00:04,  4.84it/s]"
     ]
    },
    {
     "name": "stdout",
     "output_type": "stream",
     "text": [
      "Sucesso - documentos\\90 anos do 9 a 2_ histórias e registros do polêmico clássico que, sim, existiu _ atlético-mg _ ge.pdf\n",
      "Sucesso - documentos\\A final do Brasileiro de 1971 - Atlético Campeão.pdf\n"
     ]
    },
    {
     "name": "stderr",
     "output_type": "stream",
     "text": [
      " 20%|██        | 5/25 [00:00<00:02,  8.01it/s]"
     ]
    },
    {
     "name": "stdout",
     "output_type": "stream",
     "text": [
      "Sucesso - documentos\\A Letra do Hino do Clube Atlético Mineiro.pdf\n",
      "Sucesso - documentos\\Arena MRV - Clube Atletico Mineiro - Enciclopedia Galo Digital.pdf\n",
      "Sucesso - documentos\\Atlético Mineiro_ história, títulos, ídolos, torcida.pdf\n"
     ]
    },
    {
     "name": "stderr",
     "output_type": "stream",
     "text": [
      " 32%|███▏      | 8/25 [00:01<00:01,  9.71it/s]"
     ]
    },
    {
     "name": "stdout",
     "output_type": "stream",
     "text": [
      "Sucesso - documentos\\Atlético-MG x Flamengo_ quem venceu mais vezes o confronto_ _ Goal.com Brasil.pdf\n",
      "Sucesso - documentos\\Categoria_Artilheiros - Clube Atletico Mineiro - Enciclopedia Galo Digital.pdf\n",
      "Sucesso - documentos\\Categoria_História - Clube Atletico Mineiro - Enciclopedia Galo Digital.pdf\n",
      "Sucesso - documentos\\Categoria_Jogadores que mais defenderam o Atlético - Clube Atletico Mineiro - Enciclopedia Galo Digital.pdf\n",
      "Sucesso - documentos\\Categoria_Treinadores - Clube Atletico Mineiro - Enciclopedia Galo Digital.pdf\n"
     ]
    },
    {
     "name": "stderr",
     "output_type": "stream",
     "text": [
      " 44%|████▍     | 11/25 [00:01<00:01, 11.22it/s]"
     ]
    },
    {
     "name": "stdout",
     "output_type": "stream",
     "text": [
      "Sucesso - documentos\\Clube Atlético Mineiro _ Futebolpédia _ Fandom.pdf\n",
      "Sucesso - documentos\\Clube Atlético Mineiro.pdf\n"
     ]
    },
    {
     "name": "stderr",
     "output_type": "stream",
     "text": [
      " 60%|██████    | 15/25 [00:01<00:01,  8.10it/s]"
     ]
    },
    {
     "name": "stdout",
     "output_type": "stream",
     "text": [
      "Sucesso - documentos\\Clube_Atlético_Mineiro.pdf\n",
      "Sucesso - documentos\\Conheça 5 fatos curiosos sobre o Atlético Mineiro _ Blog Netshoes_.pdf\n",
      "Sucesso - documentos\\Estatísticas do Clássico Atlético-MG x Cruzeiro.pdf\n"
     ]
    },
    {
     "name": "stderr",
     "output_type": "stream",
     "text": [
      " 72%|███████▏  | 18/25 [00:02<00:00, 11.17it/s]"
     ]
    },
    {
     "name": "stdout",
     "output_type": "stream",
     "text": [
      "Sucesso - documentos\\História - Clube Atlético Mineiro.pdf\n",
      "Sucesso - documentos\\História completa do Clube Atlético Mineiro - Central Atleticana.pdf\n",
      "Sucesso - documentos\\História do Atlético Mineiro - Atleticomg.net.pdf\n",
      "Sucesso - documentos\\História do Atlético Mineiro.pdf\n"
     ]
    },
    {
     "name": "stderr",
     "output_type": "stream",
     "text": [
      " 88%|████████▊ | 22/25 [00:02<00:00, 11.99it/s]"
     ]
    },
    {
     "name": "stdout",
     "output_type": "stream",
     "text": [
      "Sucesso - documentos\\História do Atlético-MG_ Origem, títulos e desafios do Galo.pdf\n",
      "Sucesso - documentos\\História do Clube Atlético Mineiro.pdf\n",
      "Sucesso - documentos\\História do Galo_ títulos, estádios, ídolos e curiosidades do time alvinegro _ Bendize.pdf\n",
      "Sucesso - documentos\\O time campeão da Libertadores foi o melhor da história do Atlético-MG_.pdf\n",
      "Sucesso - documentos\\Poleiro de pato é no chão - por Lúcio Saretta.pdf\n"
     ]
    },
    {
     "name": "stderr",
     "output_type": "stream",
     "text": [
      "100%|██████████| 25/25 [00:02<00:00,  9.12it/s]"
     ]
    },
    {
     "name": "stdout",
     "output_type": "stream",
     "text": [
      "Sucesso - documentos\\Títulos do Atlético-MG_ veja lista de conquistas do clube _ atlético-mg _ ge.pdf\n",
      "Quantidade de documentos processados: 25\n"
     ]
    },
    {
     "name": "stderr",
     "output_type": "stream",
     "text": [
      "\n"
     ]
    }
   ],
   "source": [
    "dados = []\n",
    "\n",
    "for documento in tqdm(documentos):\n",
    "    try:\n",
    "        loader = PyMuPDFLoader(documento)\n",
    "        dados.append(loader.load())\n",
    "        print(f\"Sucesso - {documento}\")\n",
    "    except Exception as e:\n",
    "        print(f\"Erro ao processar {documento}: {e}\")\n",
    "    \n",
    "print(f\"Quantidade de documentos processados: {len(dados)}\") "
   ]
  },
  {
   "cell_type": "code",
   "execution_count": 4,
   "metadata": {},
   "outputs": [
    {
     "data": {
      "text/plain": [
       "[Document(metadata={'producer': 'Skia/PDF m132', 'creator': 'Mozilla/5.0 (Windows NT 10.0; Win64; x64) AppleWebKit/537.36 (KHTML, like Gecko) Chrome/132.0.0.0 Safari/537.36 OPR/117.0.0.0', 'creationdate': '2025-03-27T17:43:40+00:00', 'source': 'documentos\\\\90 anos do 9 a 2_ histórias e registros do polêmico clássico que, sim, existiu _ atlético-mg _ ge.pdf', 'file_path': 'documentos\\\\90 anos do 9 a 2_ histórias e registros do polêmico clássico que, sim, existiu _ atlético-mg _ ge.pdf', 'total_pages': 1, 'format': 'PDF 1.4', 'title': '90 anos do 9 a 2: histórias e registros do polêmico clássico que, sim, existiu | atlético-mg | ge', 'author': '', 'subject': '', 'keywords': '', 'moddate': '2025-03-27T17:43:40+00:00', 'trapped': '', 'modDate': \"D:20250327174340+00'00'\", 'creationDate': \"D:20250327174340+00'00'\", 'page': 0}, page_content='agenda\\ntabelas\\n© Copyright 2000-2025 Globo Comunicação e Participações S.A.\\nprincípios editoriais\\npolítica de privacidade\\nminha conta\\nanuncie conosco\\n90 anos do 9 a 2: histórias e\\nregistros do polêmico clássico que,\\nsim, existiu\\nGloboEsporte.com revela detalhes da maior goleada de todos os tempos do confronto entre os\\nrivais Atlético-MG e Cruzeiro (na época, Palestra Itália), que completa nove décadas nesta 2ª feira\\nPor Guilherme Frossard — de Belo Horizonte\\n27/11/2017 07h02 · Atualizado \\nComo um clássico que teve o incrível placar de 9 a 2 ficou tanto tempo\\nsem ser comentado entre os torcedores de Atlético-MG e Cruzeiro,\\npraticamente entrando em pauta apenas em 2011? Por que ainda há,\\nespecialmente na torcida celeste, um rumor de que a partida nunca\\nexistiu? Quem foram os heróis atleticanos e quem foi Mário de Castro,\\nautor de dois gols no jogo e dono da melhor média de gols de um jogador\\nna história do Alvinegro? Como, por que, quando e onde o jogo\\naconteceu? Como a imprensa noticiou a partida na época? O duelo dos\\narquirrivais de Minas com o placar mais extenso da história completa 90\\nanos nesta segunda-feira, e o GloboEsporte.com produziu uma\\nreportagem especial para contar tudo isso com detalhes - que você, até\\nagora, provavelmente não conhecia.\\nTaça do Campeonato Mineiro de 1927, conquistada pelo Atlético-MG, está guardada na sede do clube — Foto:\\nGuilherme Frossard\\nO JOGO\\nEm 1927, Atlético-MG e Palestra Itália (fundado em 1921 e que se\\ntransformou em Cruzeiro apenas no ano de 1942) disputavam o\\nCampeonato da Cidade, então com 11 clubes. Eram oito de Belo\\nHorizonte, dois de Nova Lima e um de Sabará. A competição foi disputada\\nno formato de pontos corridos, mas tinha duas fases. Na primeira, todos\\nse enfrentaram em turno único. Na segunda, os quatro melhores jogaram\\nentre si, também em turno único, para decidir o campeão. O título estava\\nentre Atlético-MG, Palestra Itália, América-MG e Villa Nova. É válido\\nressaltar que, na época, o futebol em Belo Horizonte era amador. A\\nprofissionalização veio anos depois, já na década de 1930. Os jogadores\\ntinham - ou estudavam para ter - profissões fora do esporte. Isso porque\\nnão existia a opção \"jogador de futebol\" como carreira. Não dava para\\nganhar a vida jogando bola: era um hobbie. O futebol não dava um\\ncentavo sequer aos seus protagonistas.\\n\"Trio maldito\" : Jairo, Said e Mário de Castro marcaram oito dos nove gols no jogo — Foto: Reprodução/Site do\\nAtlético-MG\\nPois bem: na fase final do estadual, que ainda não era nomeado\\nCampeonato Mineiro, Atlético-MG e Palestra Itália se enfrentaram pela\\nsegunda vez na competição. A primeira vez havia sido na fase inicial, com\\nvitória atleticana por 4 a 2. No dia 27 de novembro de 1927, no penúltimo\\njogo do campeonato, a goleada aconteceu. No campo do América-MG, na\\nAvenida Paraopeba - hoje Augusto de Lima - o Galo derrotou o Palestra\\npor 9 a 2. A escalação do Alvinegro teve Oswaldo \"Perigoso\", Hugo,\\nChiquinho, Brant, Franco, Ivo, Said, Jairo, Getulinho, Mário de Castro\\n\"Orion\" e Getúlio. O Palestra entrou em campo com Geraldo, Porfírio,\\nRizzo, Para-Raio, Nininho, Osti, Nani, Bengala, Piorra, Ninão e\\nArmandinho. A partida era disputada em dois tempos de 40 minutos, e\\nnão 45 como hoje em dia. Os gols atleticanos foram marcados por\\nGetúlio, Mário de Castro (2), Said (3) e Jairo (3). Ninão, com dois gols,\\ndescontou para os palestrinos.\\nCom o resultado, o Atlético-MG - que já tinha vencido o Villa Nova na fase\\nfinal - garantiu o título. Foi o terceiro caneco estadual do Galo (havia\\nvencido em 1915 e 1926), o primeiro bicampeonato consecutivo,\\ninterrompendo a série do decacampeonato mineiro do América-MG, de\\n1916 a 1925. O Galo jogou a última partida, contra o próprio Coelho,\\napenas para \"cumprir tabela\", já que o título estava garantido. Perdeu por\\n3 a 2 - a única derrota no campeonato.\\nTaça do Campeonato Mineiro de 1927 — Foto: Guilherme Frossard\\nO NOTICIÁRIO\\nA reportagem fez uma pesquisa na Biblioteca Pública Estadual Luiz de\\nBessa, na Praça da Liberdade, em Belo Horizonte, em busca de conteúdos\\njornalísticos da época que comprovam e detalham a partida, o 9 a 2.\\nForam encontrados registros em quatro jornais: \"Correio Mineiro\", \"Diário\\nde Minas\", \"Minas Geraes\" e \"Diário da Manhã\". Com o vocabulário\\ncaracterístico da época, os periódicos descreveram o jogo com detalhes\\nmuito interessantes.\\nA expectativa\\nDois dos quatro jornais que colocaram o jogo em pauta fizeram isso antes\\nmesmo dele acontecer. Quem fez o pré-jogo com mais entusiasmo foi\\no \"Correio Mineiro\", que publicou notas diárias desde a quarta-feira da\\nsemana da partida, sem falhar nenhum dia. Quarta, quinta, sexta e\\nsábado com notas curtas e convidativas.\\n\"De acordo com a tabella organizada pela Liga Mineira, terá logar domingo\\npróximo, no campo do Barro Preto, o encontro ente os clubs Athletico e\\nPalestra em disputa do campeonato da cidade. Este jogo é o penúltimo, sendo\\no último disputado entre os clubs Athletico e America, ambos possuidores de\\nquadros magnificos. O encontro do próximo domingo decidirá da sorte do\\nalvi-negro, pois, vencedor o Athletico, este não terá mais dúvida, ficando\\ngarantido na leaderança da tabella. Caso sahia vencedor o Palestra, o\\nAmerica fica em boa collocação para o jogo final com o seu antigo rival. Pelo\\nexposto vê-se que os ultimos jogos de campeonato são de máxima\\nimportancia. Os tres quadros (Atlético, Palestra e América) que vão disputar\\no resto do campeonato estão em perfeita forma, não se podendo fazer\\nprognostico sobre quem recahirão os louros da victoria\" - transcrição na\\níntegra, com a ortografia original da época, da nota publicada pelo\\n\"Correio Mineiro\" na quarta-feira, dia 23 de novembro de 1927. Continuou\\nno dia seguinte.\\nNota do \"Correio Mineiro\" publicada na véspera do jogo — Foto: Reprodução/Correio Mineiro\\n\"Continua despertando grande enthusiasmo nos circulos desportistas da\\nCapital, o encontro de domingo, entre os Clubs Athletico e Palestra, no campo\\ndeste, em prosseguimento do campeonato da serie A, da Liga Mineira. (...)\\nAmbos os clubs estão se empenhando em treinos rigorosos, sendo de se\\nesperar uma boa partida domingo\" - disse a publicação de quinta do\\n\"Correio Mineiro\".\\n\"Os concorrentes que são possuidores de esquadras possantes e exercitadas,\\nvão apresentar em campo os seus teams com elementos novos, sendo de se\\nesperar um bom jogo, vista tratar-se de dois rivaes, fortes e leaes. O Palestra,\\nque conta com elementos como Odilon e Osti, para só falar nos novos, está\\nem condições de enfrentar a forte esquadra athleticana, que é um dos\\nmelhores conjuntos desta capital\" - disse a nota de sexta-feira do \"Correio\\nMineiro\".\\n\"E finalmente amanhã, que os apreciadores do futeból vão apreciar uma boa\\npartida entre os quadros dos clubs Athletico e Palestra, no campo deste. (...) A\\nprova dos primeiros quadros (*) será às 15 horas em ponto. As senhoras e\\nsenhoritas não pagarão entradas\" - publicou o \"Correio Mineiro\" no sábado,\\nvéspera do jogo.\\n(*) Primeiros quadros eram os times principais. Antes, às 13h, houve um\\njogo preliminar dos chamados segundos quadros - equivalentes aos\\ntimes reservas, já que não havia substituição. O Atlético-MG também\\nvenceu: por 3 a 2.\\nAlém do \"Correio Mineiro\", quem também repercutiu a partida antes de a\\nbola rolar foi o \"Diário de Minas\". O jornal publicou uma nota curta na\\nquarta-feira, dia 23.\\nNota esportiva do \"Diário de Minas\" na semana da partida — Foto: Reprodução/Diário de Minas\\n\"A nossa capital assistirá, domingo próximo, a uma bella partida de futebol, a\\nser travada entre as galhardas equipes do Club Athletico Mineiro e Sociedade\\nSportiva Palestra Italia. São bem conhecidos do publico bellorizontino as duas\\nvalentes esquadras locaes, para que externemos sobre as mesmas o nosso\\njuizo critico. Diremos apenas que será um jogo empolgante, e pensamos que\\nestá dito tudo\" - resumiu a curiosa publicação.\\nA repercussão\\nDomingo a bola rolou, os gols saíram aos montes, os amantes de futebol\\nem Belo Horizonte compareceram ao campo do América-MG (e não ao\\ncampo do Palestra, como diziam as publicações anteriores à partida).\\nTudo transcorreu na mais perfeita ordem, e a vida seguiu. Segunda-feira,\\nnaquela época, não era dia de circulação de jornal. Os periódicos com os\\ninformes do clássico foram parar nas mãos dos leitores apenas na terça.\\nO GloboEsporte.com encontrou e separou três publicações do dia 29 de\\nnovembro de 1927 para exemplificar a repercussão da goleada.\\nComeçando pelo \"Minas Geraes\", a publicação foi extensa. Duas\\ncolunas praticamente inteiras em letras miúdas contavam os detalhes da\\npartida. O título, curiosamente, não destacou a goleada, e sim o\\nbicampeonato alvinegro: \"O Athletico Mineiro levanta, pela segunda vez, o\\ncampeonato da cidade\". Abaixo alguns trechos da publicação do \"Minas\\nGeraes\".\\n\"O nosso mundo desportivo teve, anteontem, uma de suas melhores tardes,\\ncom o \\'match\\' entre o Club Athletico Mineiro e a S. S. Palestra Italia, para a\\ndisputa da semi-final do campeonato da cidade. Jogo de grande\\nresponsabilidade para ambos os contendores, o encontro de domingo foi,\\ncomo se esperava, muito renhido, apresentando lances de grande emoção. As\\narchibancadas e logares adjacentes do \\'stadium\\' do America F. C., onde se\\nverificou a lueta, achavam-se repletos de \\'torcedoras\\', salientando-se o\\nelemento feminino, cuja \\'torcida\\', commandada pelas senhoritas Nenem\\nAlluoto e Horizontina Federiel, respectivamente, rainha e grã-duqueza dos\\nsports de Bello Horizonte, foi das mais calorosas e enthusiasticas. Pela\\nsegunda vez, coube ao Club Athletico Mineiro, com o resultado da\\nmovimentada pugna de domingo, o titulo de campeão de Bello Horizonte\"\\nPedaço do jornal \"Minas Geraes\" - reportagem pós-jogo — Foto: Reprodução/Minas Geraes\\nA partir daí o jornal começa a descrever o jogo com uma espécie de \"lance\\na lance\", na ordem cronológica dos fatos. Por fim, conclui: \"Com mais\\nalguns ataques do Athletico, termina o jogo, às 16h50, com o seguinte\\nresultado: Athletico (9), Palestra (2)\".\\nO \"Correio Mineiro\" - o mesmo que fez reportagens nos quatro dias que\\nantecederam o jogo - publicou uma matéria completa detalhando a\\nconquista do título pelo Atlético-MG. Começou com uma descrição geral\\ndo ambiente e do confronto de domingo.\\n\"Em disputa do campeonato da cidade, encontraram-se, domingo, as\\naguerridas esquadras dos clubes Athletico e Palestra. Tratando-se do\\npenultimo jogo do campeonato do corrente anno, de que era um dos\\nconcorrentes o ponteiro da tabella (Atlético-MG), a atenção geral foi\\ndespertada para o encontro que se dizia sensacional. E o campo do America,\\nlocal do embate, apanhou colossal assistencia (torcida), que applaudiu, com\\ndelirante enthusiasmo, os jogadores das suas côres predilectas. As gentis e\\ngraciosas torcedoras não faltaram à disputa do importante prelio,\\ncomparecendo em grande numero ao campo, dando a este animação\\nextraordinaria e agradavel aspecto. A torcida masculina, como sempre, esteve\\nfirme no campo do alvi-verde, torcendo pelo clube de sua predilecção. E, não\\nobstante os boatos que correram pela cidade, não se registrou nenhum\\n\\'sururu\\' (briga)\" - introduziu o \"Correio Mineiro\".\\nDepois disso, o jornal faz uma breve menção ao jogo preliminar, dos\\ntimes reservas, e emenda com as escalações dos times principais e do\\nárbitro, o Sr. José Avelino. Na sequência, o \"Correio Mineiro\" faz como o\\n\"Minas Geraes\" e publica uma espécie de \"lance a lance\" do jogo, que\\ntermina desta forma: \"E sem mais nada digno de interesse, o juiz apitou,\\ndando por fim o jogo, às 16h50, com o seguinte resultado: Athletico (9),\\nPalestra (2)\".\\nO \"Correio Mineiro\" dá sequência à completa cobertura com uma\\navaliação positiva do árbitro: \"O Sr. José Avelino apitou bem a partida,\\ndemonstrando, às vezes, desconhecer as novas regras de futeból. De vez em\\nquando, batia, a qualquer pretexto, a bola no centro do campo. Manda a\\njustiça, porém, dizer que o Sr. José Avelino foi um juiz energico e, sobretudo,\\nhonesto\".\\nNa sequência há uma avaliação sobre os dois times, com destaques\\nindividuais de cada lado, seguida de um texto sobre a comemoração do\\nAtlético-MG e de sua torcida.\\nPedaço do jornal \"Correio Mineiro\" - reportagem pós-jogo — Foto: Reprodução/Correio Mineiro\\n\"Terminando o jogo, a torcida do Athletico, entregou-se às mais expansivas\\nmanifestações (...) pela victoria do seu clube. Foram erguidos vivas ao\\nAthletico, ao Dr. Leandro de Moura Costa, presidente do clube vencedor, e ao\\nCorreio Mineiro. Às 19 horas, no restaurante Guarany, foi offerecido um jantar\\naos vencedores do jogo de domingo, tomando parte no ágape aos 22\\njogadores triumphadores, e Dr. Moura Costa, e varios athleticanos veteranos.\\nO jantar decorreu em um ambiente de cordialidade, sendo trocados varios\\nbrindes\" - concluiu a matéria extensa do \"Correio Mineiro\" sobre o\\ncampeão mineiro de 1927.\\nPor fim, há o registro da extensa matéria do \"Diário da Manhã\",\\ntambém publicada no dia 29, terça-feira. O periódico usou o seguinte\\ntítulo: \"O Athletico, ante-hontem, obteve linda e facil victoria sobre o Palestra\".\\nO subtítulo: \"Depois de haverem resistido no primeiro tempo, os palestrinos\\ndeixaram-se abater fragarosamente\".\\n\"Seria injusto da nossa parte, se não realçassemos a linda victoria do Athletico\\nMineiro, obtida domingo ultimo, sobre a valorosa esquadra do Palestra Italia.\\nCom a nossa independencia do costume e reconhecida imparcialidade, não\\npodemos deixar de fazer elogiosas referencias à magnifica actuação dos\\nvencedores de ante-hontem, que, souberam durante toda a pugna, se\\nempregar com tenacidade bastante, fazendo-se merecedores da victoria\\nalcançada. (...) A tarde sportiva de ante-hontem, no campo do America, não foi\\nmá. Lá estiveram as torcidas dos dois clubs que se encontraram, não faltando\\no enthusiasmo que sempre provocam as grandes pelejas de football\" - disse a\\npublicação do \"Diário da Manhã\".\\nPedaço do jornal \"Diário da Manhã\" - reportagem pós-jogo — Foto: Reprodução/Diário da Manhã\\nAntes de entrar no \"lance a lance\", comum nos três jornais que\\nreportaram a partida na terça-feira seguinte, o \"Diário da Manhã\" fez um\\nresumo das razões que levaram o Atlético-MG à vitória com larga folga.\\n\"Mais solido e articulado, não foi dificil ao Athletico abater o Palestra Italia,\\ncujo team, além de aparecer integrado com dois elementos secundarios\\n(reservas), desorientou-se por completo, empregando um jogo violento e\\nprejudicial, que lhe valeu a derrota. O team preto e branco deve especialmente\\na victoria, à magnifica atuação de sua linha atacante, devendo-se accrescentar\\nque tambem alguns jogadores do Palestra collaboraram nesse triumpho, pois\\ntiveram uma marcação defeituosa e auxiliaram mal o ataque, à excepção do\\ncentro médio Osti, que, pelo menos, nesse particular, portou-se com alguma\\nhabilidade\" - resume o \"Diário da Manhã\".\\nA RIVALIDADE DA ÉPOCA\\nO Palestra Itália foi fundado em 1921. O Atlético-MG já existia desde 1908,\\ne o América-MG desde 1912. Galo e Coelho eram os grandes rivais de\\nBelo Horizonte. O duelo entre os dois era chamado de \"clássico das\\nmultidões\". A história começou a mudar justamente com o início da\\ntrajetória do Palestra, que rapidamente alcançou relevância e sucesso no\\ncenário estadual, começando, ainda na década de 1920, a aparecer como\\no principal rival do Atlético-MG - e a tirar um pouco do protagonismo e\\ndos holofotes do América-MG.\\nHá também um pesquisador que estudou justamente a rivalidade entre\\nAtlético-MG e Palestra Itália (entre 1921 e 1942, quando o Palestra virou\\nCruzeiro). É Rogério Othon, mestre em Estudos do Lazer pela\\nUniversidade Federal de Minas Gerais (UFMG) e professor da\\nUniversidade Estadual de Montes Claros (Unimontes). Rogério escreveu a\\npesquisa \"A Lucta dos Titans\", com a história da rivalidade entre os dois\\nclubes. O GloboEsporte.com conversou com ele para entender qual era\\no grau de \"concorrência\" entre Atlético-MG e Palestra Itália em 1927 (o\\nano do 9 a 2). Ele explica que o momento marca o início do\\nenfraquecimento do América-MG e a consolidação do Palestra - depois\\nCruzeiro - como grande força do estado ao lado do Atlético-MG.\\nRivalidade entre Galo e Cruzeiro teve início na década de 1920 — Foto: Bruno Cantini / Fickr do Atlético-MG\\n- É uma rivalidade que nasceu na década de 1920. Sei que há muita\\ndiscussão entre as duas torcidas sobre esse jogo, mas é verdade: ele\\naconteceu. Não só aconteceu, como foi um jogo muito importante.\\nMarcou o primeiro bicampeonato do Atlético-MG, e ele seria muito\\nimportante, não só por ser o primeiro, mas também por marcar o fim da\\nhegemonia americana depois do decacampeonato (1916-1925). No ano\\nseguinte (ao 9 a 2), 1928, o Palestra Itália chegou com uma pegada mais\\nprofissional. Eles tinham sido vice-campeões por seis vezes, de 1922, um\\nano após a fundação, a 1927. Em 1926 e 1927, o Atlético-MG foi campeão.\\nEm 1928, 1929 e 1930, o Palestra Itália foi, pela primeira vez, campeão\\nmineiro. Não só campeão, mas tricampeão. Ele foi buscar jogadores que\\natuavam no Palestra Itália de São Paulo, hoje o Palmeiras, trouxe um\\ntécnico de fora e conseguiu transformar o Palestra Itália numa equipe\\nimbatível por três anos.\\nO fortalecimento do Palestra, portanto, era contínuo. Os resultados em\\ncampo provavam isso. O América-MG ia perdendo força em Minas Gerais,\\ne a rivalidade entre alvinegros e palestrinos crescia.\\n- O 9 a 2 é muito importante por isso. Não só o placar elástico,\\ndemonstrando a superioridade do Atlético-MG naquele ano, como\\ntambém a rivalidade que se instauraria entre as duas equipes, marcando\\no início da decadência do América-MG, que não teria mais os dias de\\nglória tão amplos. Isso foi amplamente divulgado na imprensa da época.\\nMarca uma rivalidade que, em pouco tempo, se tornará centenária, entre\\no Clube Atlético Mineiro e o Palestra Itália, depois Cruzeiro. Posso afirmar\\nque a rivalidade entre Atlético-MG e Palestra Itália é algo que nasce e se\\nconsolida na década de 1920 em função dos seus jogos, da ida dos\\ntorcedores aos jogos, em grande quantidade, até da própria violência que\\nexistia nas arquibancadas dos estádios da época e, principalmente, dos\\nresultados obtidos tanto por Atlético-MG, quanto por Palestra. O América-\\nMG era tido como a grande equipe no início dos campeonatos, mas foi\\narrefecendo o seu poderio futebolístico com o passar do tempo - concluiu\\nRogério.\\nO PALCO\\nHoje em dia, o torcedor da capital mineira é acostumado a ver os jogos no\\nMineirão e no Independência, estádios com grande capacidade de público\\ne boa estrutura. Em 1927, Belo Horizonte estava engatinhando na\\ninfraestrutura do futebol. Até 1923, para se ter ideia, o único estádio\\ngramado da capital mineira era o do Prado Mineiro, que havia sido\\nconstruído para corridas de cavalo. A década do 9 a 2 coincide com o\\nmomento em que os clubes começam a planejar e construir seus\\npróprios estádios. O primeiro foi o América-MG.\\nCampo onde foi disputado o clássico do 9 a 2 (foto de 1923) — Foto: Reprodução/Enciclopédia do América-MG\\nPara entender melhor o cenário dos \"palcos da bola\" de Belo Horizonte, o\\nGloboEsporte.com conversou com o professor Georgino Neto, doutor\\nem Estudos do Lazer pela UFMG e membro do Grupo de Estudos Sobre\\nFutebol e Torcidas (Gefut). Uma das suas pesquisas na área é voltada\\njustamente para os antigos estádios de Belo Horizonte. Com base nela,\\nele explica.\\n- É legal a gente fazer uma diferenciação entre campo e estádio. O Atlético\\ntinha um campo onde é o Minascentro hoje, em frente ao Mercado\\nCentral. Mas não era um estádio. Era um terreno onde o Atlético treinava,\\nmas não era um campo que a Liga usava para o campeonato da cidade,\\nque depois virou Campeonato Mineiro. Até 1923, o principal estádio\\nusado pela Liga, que era gramado, com arquibancada e geral, era o Prado\\nMineiro, que foi construído para corridas de cavalo. Mas o pessoal do\\nfutebol se apropriou dele quando o Prado faliu. Em 1923, o América\\npegou o terreno que tinha onde é hoje o Mercado Central, onde tinha um\\ncampo, e constriu o estádio, inaugurado em 1923. Seria, naquele\\nmomento, o melhor estádio da cidade. Tinha uma capacidade muito\\nmaior de público do que o Prado. Maior para a época, claro: eram cinco\\nmil pessoas. Mas naquele mesmo ano de 1923 o Palestra inaugurou o\\ncomeço do seu estádio, que no momento era chamado de Estadinho do\\nPalestra. Era bem modesto em 1923, depois ele foi reformado e ficou\\nbem maior. Também era na Paraopeba. Esse Estadinho do Palestra era\\nonde, hoje, é o clube social do Cruzeiro, na (avenida) Augusto de Lima.\\nVocê tinha esses dois estádios. O Atlético só passou a ter um estádio\\nmesmo em 1929, onde hoje é o Diamond Mall. Esse era o desenho dos\\nestádios na capital na década de 1920.\\nO clássico do dia 27 de novembro, portanto, como indicam as\\nreportagens dos dias que antecederam o jogo, estava previsto para o\\n\"Estadinho do Palestra\", mas teve o local alterado devido ao grande apelo\\ne proporção que o evento ganhou. Optaram por jogar no campo do\\nAmérica-MG, o melhor da cidade à época, com estrutura para receber\\nmais torcedores.\\nMUDANÇA DRÁSTICA\\nDe 27 de novembro de 1927 até 4 dezembro de 2011 (data em que o\\nCruzeiro goleou o Atlético-MG por 6 a 1, no Brasileirão de 2011) se\\npassaram exatamente 84 anos e sete dias. Nesse período, quase nada se\\nfalou sobre o 9 a 2. Por que? O GloboEsporte.com conversou com outro\\nespecialista no assunto. Marcelino Rodrigues é professor da Faculdade de\\nLetras da UFMG e tem um amplo estudo sobre as narrativas históricas do\\nfutebol mineiro. Ou seja, sobre tudo o que foi contado sobre o futebol no\\nestado desde os primórdios. Ele explica que houve, em relação ao jogo de\\n1927, uma ressignificação e uma mudança drástica na relevância do jogo\\na partir de 2011.\\nEm 2011, o Cruzeiro venceu o Atlético-MG por 6 a 1; atleticanos \"resgataram\" o 9 a 2 como resposta — Foto:\\nDouglas Magno/Agência Estado\\n- A história começou a ser falada depois do 6 a 1. Isso porque o passado é\\nsempre reinventado na perspectiva do presente, a partir dos interesses\\ndo presente. Os acontecimentos são ressignificados. É o que aconteceu\\ncom o 9 a 2. Depois do 6 a 1, o 9 a 2 ganhou um outro significado, uma\\noutra relevância. Começou a ser um acontecimento relevante do passado,\\nque deveria ser lembrado, rememorado, por ter sido a maior goleada.\\nNão há dúvida, aconteceu. Mas o lance sobre as narrativas do passado é\\nisso: o acontecimento em si não é importante por si só. O acontecimento\\nsó é importante quando está inserido em uma narrativa, em uma rede de\\nsignificados. É o que dá sentido a ele, importância, valor. Essa rede, em\\nrelação ao 9 a 2, não existia. Só existiu depois do 6 a 1. Ou seja: o passado\\nfoi reinventado. O jogo aconteceu, mas, como dizia Nelson Rodrigues: \"O\\nfato em si vale pouco ou nada\". O jogo em si não vale por si só. Ele vale\\ndentro da história. E a história é o que se conta. A gente sempre reinventa\\na história a partir dos nossos interesses atuais, da nossa visão de mundo.\\nToda narrativa está carregada de interesse, de intenção. Do ponto de vista\\nda linguagem, não existe completa imparcialidade. O fato é pouco. O que\\nacontece é pouco. O que a gente entende do passado é muito mais do\\nque o que definitivamente aconteceu. A gente sabe que aquilo está\\ndentro de uma rede. O fato só existe dentro da interpretação.\\nNa prática, portanto, o 9 a 2 foi \"resgatado\" da memória em função da\\nrivalidade, em função da necessidade do torcedor atleticano contra-\\nargumentar com o rival na discussão sobre goleadas históricas. O jogo\\nsempre esteve na história dos clubes, mas antes de 2011 não tinha um\\ngrande apelo. Passou a ter, a partir do 6 a 1 de 2011 e foi ressignificado,\\nampliado no contexto da rivalidade.\\nO TRIO MALDITO E MÁRIO DE CASTRO\\nDos nove gols marcados pelo Atlético-MG no clássico do dia 27 de\\nnovembro de 1927, oito foram de autoria de um dos integrantes do \"Trio\\nMaldito\". Eram os três atacantes do Galo: por Said, Jairo e Mário de Castro,\\ntodos já falecidos. O último a partir para o \"andar de cima\\'\\' foi Mário de\\nCastro, em 30 de abril de 1998, aos 92 anos. O GloboEsporte.com visitou\\na casa da família do histórico artilheiro que, além de fazer dois gols no 9 a\\n2, marcou outros 193 com a camisa alvinegra. Ele ostenta a melhor média\\nde gols de um atacante na história do clube: 1,95 por partida (195 gols em\\n100 jogos). Segundo o Atlético-MG, inclusive, é a maior média de gols\\nconhecida entre atletas de futebol do Brasil em todos os tempos.\\nA casa, que fica no bairro Nova Granada, é recheada de elementos\\nhistóricos da vida de Mário de Castro. Era doutor! Assim como Jairo, seu\\nparceiro de ataque, cursou medicina em Belo Horizonte. Natural de\\nFormiga, viajou para Belo Horizonte com o intuito de estudar. O futebol\\nentrou no caminho, mas por pouco a história de Mário não teria, como\\nplano de fundo, as cores verde, preto e branco.\\nQuando formou em medicina, Mário de Castro largou o futebol — Foto: Reprodução/Acervo familiar\\n- Ele contava que quando veio de Formiga para Belo Horizonte, chuteira\\nera uma coisa muito difícil, não tinha chuteira para vender. Ele ganhou\\numa chuteira de um amigo, mas veio sem cadarço. Com muita habilidade\\nele arrumou alguns arames e foi fechando, amarrando a chuteira. E foi\\njogar no América com essa chuteira. Chegou lá, e o técnico do América\\ncomeçou a pegar no pé dele. “Você não tem nem chuteira, o que veio\\nfazer aqui?”. Ele foi embora, foi jogar no Atlético. Quando ganhou o\\ncampeonato de 1927, começou a fazer gol atrás de gol, E o América foi\\natrás dele. Aí ele negou. “Não. O primeiro lugar que bati foi lá, mas vocês\\nnão me quiseram, porque nem chuteira eu tinha”. Ficou uma mágoa -\\nconta Andréa de Castro, dentista e neta do ex-artilheiro.\\nFamília de Mário de Castro: filha (à direita), com as netas do artilheiro — Foto: Guilherme Frossard\\nO episódio mostra o quão orgulhoso era o doutor Mário de Castro. E não\\nfoi só em relação ao América-MG que o orgulho falou mais alto. Mário\\nteve a oportunidade de ser o primeiro jogador de um clube mineiro a\\ndisputar uma Copa do Mundo (de 1930) pela Seleção Brasileira. Recusou.\\nTambém teve a chance de se profissionalizar e atuar no Fluminense. Não\\nquis. O foco era a medicina.\\n- Ele foi o primeiro jogador de Minas Gerais a ser convocado para a\\nSeleção. Ia disputar a Copa de 1930, mas não quis ir, porque ia ficar como\\nreserva do Carvalho Leite, que era do Botafogo. Depois fizeram dois jogos\\npara ver qual dos dois era melhor. Nos dois jogos, meu avô marcou cinco\\ngols, o Carvalho Leite marcou três. Mostrou que meu avô, Mário de\\nCastro, era melhor. Também seria um dos primeiros jogadores a ser\\ncomprado. O Fluminense esteve em Belo Horizonte querendo comprar o\\npasse dele. Fizeram uma proposta, mas ele estava estudando e focado na\\nmedicina. O objetivo era a medicina, era ser médico. Ele fez uma\\ncontraproposta absurda. Queria o dobro do que foi proposto e queria\\nganhar 500 contos de réis por gol. Como fazia muito gol, o Fluminense\\nnão aceitou a proposta.\\nMário de Castro faleceu em 1998, aos 92 anos — Foto: Reprodução/Acervo familiar\\nCom base nas histórias, Andréa descreve o falecido avô. Apaixonado por\\nfutebol? Muito! Afinal, fazia de graça.\\n- Eles jogavam de forma amadora. Era um ajudando o outro. O \"Trio\\nMaldito\" fez muitos jogos, teve muito sucesso. Eles jogavam por amor à\\ncamisa. Era puramente por amor, porque não recebiam nada.\\nLegenda da foto guardada pela família: \"Mário de Castro: um supercraque do final dos anos 20, um artilheiro que\\nmarcou 195 gols em apenas cinco anos de Atlético e nunca cobrou nada por isso\" — Foto: Reprodução/Acervo\\nfamiliar\\nAs características vão aparecendo conforme o papo - regado a um bom\\ncafé - também avança. Além de artilheiro, apaixonado e orgulhoso, Mário\\nde Castro, o Orion, também era travesso. Aliás, que papo é esse de Orion?\\nAndréa explica.\\nPlaca do ex-consultório do então médico - e jogador — Foto: Guilherme Frossard\\n- O apelido dele “Orion” é porque a mãe dele (que ficou em Formiga) não\\naceitava que jogasse futebol. Um amigo sugeriu: “Vamos colocar seu\\nnome de trás para frente”. Era para ser “Oriam”, mas a torcida não\\nentendia e começou a gritar “Orion”. Era para ser Oriam, que seria Mário\\nde trás para frente. Ele era \"danado\". Gostava de uma farra. Gostava de\\numa pinguinha, de uma cerveja. Muitas vezes jogou com uma ressaca\\ngrande. E fazia muitos gols assim mesmo! Não tinha concentração, treino,\\nnada. Ia na cara e na coragem. E teve uma média de quase dois gols por\\njogo. Imagina o que faria hoje com toda a infraestrutura e apoio.\\nMas... e o 9 a 2?\\nA história de Mário de Castro é um território espetacular para o lúdico,\\npara a diversão do apaixonado pelo futebol. Os \"causos\" são infinitos,\\nmas, voltando ao assunto original, ao assunto que aumenta ainda mais a\\nrelevância de Mário de Castro: e o 9 a 2? O que ele falava do jogo?\\nSegundo a família, não falava muito, só quando era \"cutucado\".\\n- O meu pai era cruzeirense, sempre brincava com ele. Quando o Cruzeiro\\nganhava do Atlético, meu avô falava: já ganhei de vocês de muito mais\\n(risos). Sempre frisava isso. Ele marcou dois gols, mas ajudou nos outros\\ngols com passes, jogadas. Ele contribuiu muito - conta Andréa, orgulhosa.\\nFilha de Mário de Castro, Vanda exibe camisa em homenagem ao pai em frente à imagem dele no painel que\\nhomanegeia ídolos do clube na sede administrativa — Foto: Arquivo pessoal\\nO Atlético-MG tem - e sempre teve - ciência da relevância de Mário de\\nCastro na história da entidade. Prova disso é a imagem dele como a\\nprimeira no muro de ídolos na sede do clube no bairro de Lourdes, onde\\na Sra. Vanda de Castro, filha do ex-goleador, exibe com orgulho uma\\ncamisa comemorativa usada por Robinho, em 2017, com o nome do pai\\n(veja na foto acima).\\nOs ídolos se vão, mas o legado fica. De um lado, vencedor naquela\\nocasião, o Atlético-MG de Mário de Castro, Jairo, Said e companhia. Do\\noutro, Ninão, Nininho e toda uma geração forte que serviu de base para o\\ncrescimento do Palestra, hoje Cruzeiro. As recordações, sempre vivas,\\najudam a manter forte o futebol mineiro. Afinal, o clássico já é quase\\ncentenário. E vem história por aí...\\nVeja também\\nMais do ge\\nglobo.com\\ng¶\\nge\\ngshow\\nglobopl\\x91y\\nc\\x91rtol\\x91\\nsportv\\nCont\\x91 Globo\\nhá 7 anos\\nATLÉTICO-MG\\nVEJA MAIS\\nConheça a casa temática do\\nGrêmio que é ponto turístico\\nem Santa Catarina\\nTorcedora decorou todos os cômodos da\\nresidência com objetos, fotos e as cores do clube\\ndo coração\\nEm grêmio\\nO drama de Luan: ex-Rei da\\nAmérica não joga há um ano e\\ncogita até abandonar o futebol\\nCraque do continente em 2017, ex-Grêmio e\\nCorinthians tem vida discreta no interior de SP,\\nbusca novos investimentos e avalia futuro após\\nproblemas com álcool, perdas e decepções na\\ncarreira\\nEm futebol\\nCBF mantém conversas com\\nJorge Jesus como plano B para\\nevitar novela por Ancelotti\\nItaliano é o preferido, mas entidade trabalha com\\na informação de que abrir mão do Mundial pelo\\nAl-Hilal não seria um problema para o português,\\nque, assim, poderia treinar a Seleção em junho\\nEm seleção brasileira\\nAbraço de Raphinha e Scaloni\\nviraliza nas redes sociais; veja\\nfoto\\nTreinador da Argentina disse desculpar brasileiro\\npor fala polêmica antes de goleada no clássico:\\n\"Não falou de propósito\"\\nEm futebol argentino\\nCorinthians x Palmeiras: onde\\nassistir ao vivo, horário e\\nescalações\\nVeja também desfalques, arbitragem e outras\\ninformações do segundo e decisivo jogo da final\\ndo Campeonato Paulista\\nEm campeonato paulista\\nEntenda por que RBR trocou\\npiloto após duas corridas na F1\\n2025\\nLiam Lawson foi substituído por Yuki Tsunoda,\\negresso da RB, que é equipe-irmã do time de Max\\nVerstappen. Mudança já vale a partir do GP do\\nJapão\\nEm fórmula 1\\nCorinthians tem a maior média\\nde público em 2025, Cruzeiro é o\\nsegundo; veja ranking\\nTimão leva mais de 44 mil torcedores nos jogos\\nna Neo Química Arena no ano. Cruzeiro,\\nFlamengo, Palmeiras e Grêmio completam o top\\n5. Quatro clubes da Série A ficam fora da lista\\nEm estatísticas\\nMadrid Open confirma\\nparticipação de João Fonseca:\\n\"Grande sensação da ATP\"\\nTenista brasileiro venceu sua primeira partida da\\ncarreira no Masters 1000 da capital espanhola no\\nano passado quando tinha 17 anos\\nEm tênis\\n49 seg\\nglobo\\nMENU\\nATLÉTICO-MG')]"
      ]
     },
     "execution_count": 4,
     "metadata": {},
     "output_type": "execute_result"
    }
   ],
   "source": [
    "dados[0][0].page_content\n",
    "dados[0][0].metadata['total_pages'] \n",
    "dados[0]"
   ]
  },
  {
   "cell_type": "code",
   "execution_count": 5,
   "metadata": {},
   "outputs": [
    {
     "name": "stderr",
     "output_type": "stream",
     "text": [
      "100%|██████████| 25/25 [00:00<00:00, 25067.56it/s]\n"
     ]
    },
    {
     "data": {
      "text/html": [
       "<div>\n",
       "<style scoped>\n",
       "    .dataframe tbody tr th:only-of-type {\n",
       "        vertical-align: middle;\n",
       "    }\n",
       "\n",
       "    .dataframe tbody tr th {\n",
       "        vertical-align: top;\n",
       "    }\n",
       "\n",
       "    .dataframe thead th {\n",
       "        text-align: right;\n",
       "    }\n",
       "</style>\n",
       "<table border=\"1\" class=\"dataframe\">\n",
       "  <thead>\n",
       "    <tr style=\"text-align: right;\">\n",
       "      <th></th>\n",
       "      <th>id</th>\n",
       "      <th>título</th>\n",
       "      <th>conteudo</th>\n",
       "      <th>pagina</th>\n",
       "      <th>total_paginas</th>\n",
       "    </tr>\n",
       "  </thead>\n",
       "  <tbody>\n",
       "    <tr>\n",
       "      <th>0</th>\n",
       "      <td>95d88f6c737c4fcf8817e77b27f441f3</td>\n",
       "      <td>90 anos do 9 a 2: histórias e registros do pol...</td>\n",
       "      <td>agenda\\ntabelas\\n© Copyright 2000-2025 Globo C...</td>\n",
       "      <td>0</td>\n",
       "      <td>1</td>\n",
       "    </tr>\n",
       "    <tr>\n",
       "      <th>1</th>\n",
       "      <td>e3f6faebb35e4674a735d97696a0625d</td>\n",
       "      <td>A final do Brasileiro de 1971 - Atlético Campeão</td>\n",
       "      <td>A final do Brasileiro de 1971 - Atlético Campe...</td>\n",
       "      <td>0</td>\n",
       "      <td>1</td>\n",
       "    </tr>\n",
       "    <tr>\n",
       "      <th>2</th>\n",
       "      <td>60d21add469240cf8b69433560ddaa99</td>\n",
       "      <td>A Letra do Hino do Clube Atlético Mineiro</td>\n",
       "      <td>HINO OFICIAL DO ATLÉTICO-MG\\nAdicionado em 07 ...</td>\n",
       "      <td>0</td>\n",
       "      <td>1</td>\n",
       "    </tr>\n",
       "    <tr>\n",
       "      <th>3</th>\n",
       "      <td>e6588b1392bb4c928ccffb55b721412b</td>\n",
       "      <td>Arena MRV - Clube Atletico Mineiro - Enciclope...</td>\n",
       "      <td>Política de privacidade\\nSobre a Enciclopédia ...</td>\n",
       "      <td>0</td>\n",
       "      <td>1</td>\n",
       "    </tr>\n",
       "    <tr>\n",
       "      <th>4</th>\n",
       "      <td>4d34d32aeb1a475193d6d83ff1075087</td>\n",
       "      <td>Atlético Mineiro: história, títulos, ídolos, t...</td>\n",
       "      <td>HOME &gt;  EDUCAÇÃO FÍSICA &gt;  ESPORTES &gt;  FUTEBOL...</td>\n",
       "      <td>0</td>\n",
       "      <td>1</td>\n",
       "    </tr>\n",
       "  </tbody>\n",
       "</table>\n",
       "</div>"
      ],
      "text/plain": [
       "                                 id  \\\n",
       "0  95d88f6c737c4fcf8817e77b27f441f3   \n",
       "1  e3f6faebb35e4674a735d97696a0625d   \n",
       "2  60d21add469240cf8b69433560ddaa99   \n",
       "3  e6588b1392bb4c928ccffb55b721412b   \n",
       "4  4d34d32aeb1a475193d6d83ff1075087   \n",
       "\n",
       "                                              título  \\\n",
       "0  90 anos do 9 a 2: histórias e registros do pol...   \n",
       "1   A final do Brasileiro de 1971 - Atlético Campeão   \n",
       "2          A Letra do Hino do Clube Atlético Mineiro   \n",
       "3  Arena MRV - Clube Atletico Mineiro - Enciclope...   \n",
       "4  Atlético Mineiro: história, títulos, ídolos, t...   \n",
       "\n",
       "                                            conteudo  pagina  total_paginas  \n",
       "0  agenda\\ntabelas\\n© Copyright 2000-2025 Globo C...       0              1  \n",
       "1  A final do Brasileiro de 1971 - Atlético Campe...       0              1  \n",
       "2  HINO OFICIAL DO ATLÉTICO-MG\\nAdicionado em 07 ...       0              1  \n",
       "3  Política de privacidade\\nSobre a Enciclopédia ...       0              1  \n",
       "4  HOME >  EDUCAÇÃO FÍSICA >  ESPORTES >  FUTEBOL...       0              1  "
      ]
     },
     "execution_count": 5,
     "metadata": {},
     "output_type": "execute_result"
    }
   ],
   "source": [
    "dados_limpos = []\n",
    "\n",
    "for doc in tqdm(dados):\n",
    "    for i in range(len(doc)):\n",
    "        \n",
    "        if len(doc[i].page_content) < 10 or doc[i].page_content == None:\n",
    "            continue\n",
    "        \n",
    "        id = uuid.uuid4().hex\n",
    "        \n",
    "        dados_limpos.append({\n",
    "            'id': id,\n",
    "            'título': doc[i].metadata['title'],\n",
    "            'conteudo': doc[i].page_content,\n",
    "            'pagina': doc[i].metadata['page'],\n",
    "            'total_paginas': doc[i].metadata['total_pages'],\n",
    "        })\n",
    "        \n",
    "df = pd.DataFrame(dados_limpos)\n",
    "df.head()"
   ]
  },
  {
   "cell_type": "code",
   "execution_count": 13,
   "metadata": {},
   "outputs": [],
   "source": [
    "def clean_conteudo(texto):\n",
    "    # Remove quebras de linha e caracteres especiais\n",
    "    return re.sub(r'[^\\w\\s]', '', texto).replace(r'\\n+', ' ')\n",
    "\n",
    "df['conteudo'] = df['conteudo'].apply(clean_conteudo)"
   ]
  },
  {
   "cell_type": "code",
   "execution_count": 14,
   "metadata": {},
   "outputs": [
    {
     "data": {
      "text/html": [
       "<div>\n",
       "<style scoped>\n",
       "    .dataframe tbody tr th:only-of-type {\n",
       "        vertical-align: middle;\n",
       "    }\n",
       "\n",
       "    .dataframe tbody tr th {\n",
       "        vertical-align: top;\n",
       "    }\n",
       "\n",
       "    .dataframe thead th {\n",
       "        text-align: right;\n",
       "    }\n",
       "</style>\n",
       "<table border=\"1\" class=\"dataframe\">\n",
       "  <thead>\n",
       "    <tr style=\"text-align: right;\">\n",
       "      <th></th>\n",
       "      <th>id</th>\n",
       "      <th>título</th>\n",
       "      <th>conteudo</th>\n",
       "      <th>pagina</th>\n",
       "      <th>total_paginas</th>\n",
       "    </tr>\n",
       "  </thead>\n",
       "  <tbody>\n",
       "    <tr>\n",
       "      <th>0</th>\n",
       "      <td>95d88f6c737c4fcf8817e77b27f441f3</td>\n",
       "      <td>90 anos do 9 a 2: histórias e registros do pol...</td>\n",
       "      <td>agenda tabelas  Copyright 20002025 Globo Comun...</td>\n",
       "      <td>0</td>\n",
       "      <td>1</td>\n",
       "    </tr>\n",
       "    <tr>\n",
       "      <th>1</th>\n",
       "      <td>e3f6faebb35e4674a735d97696a0625d</td>\n",
       "      <td>A final do Brasileiro de 1971 - Atlético Campeão</td>\n",
       "      <td>A final do Brasileiro de 1971  Atlético Campeã...</td>\n",
       "      <td>0</td>\n",
       "      <td>1</td>\n",
       "    </tr>\n",
       "    <tr>\n",
       "      <th>2</th>\n",
       "      <td>60d21add469240cf8b69433560ddaa99</td>\n",
       "      <td>A Letra do Hino do Clube Atlético Mineiro</td>\n",
       "      <td>HINO OFICIAL DO ATLÉTICOMG Adicionado em 07 Fe...</td>\n",
       "      <td>0</td>\n",
       "      <td>1</td>\n",
       "    </tr>\n",
       "    <tr>\n",
       "      <th>3</th>\n",
       "      <td>e6588b1392bb4c928ccffb55b721412b</td>\n",
       "      <td>Arena MRV - Clube Atletico Mineiro - Enciclope...</td>\n",
       "      <td>Política de privacidade Sobre a Enciclopédia G...</td>\n",
       "      <td>0</td>\n",
       "      <td>1</td>\n",
       "    </tr>\n",
       "    <tr>\n",
       "      <th>4</th>\n",
       "      <td>4d34d32aeb1a475193d6d83ff1075087</td>\n",
       "      <td>Atlético Mineiro: história, títulos, ídolos, t...</td>\n",
       "      <td>HOME   EDUCAÇÃO FÍSICA   ESPORTES   FUTEBOL   ...</td>\n",
       "      <td>0</td>\n",
       "      <td>1</td>\n",
       "    </tr>\n",
       "  </tbody>\n",
       "</table>\n",
       "</div>"
      ],
      "text/plain": [
       "                                 id  \\\n",
       "0  95d88f6c737c4fcf8817e77b27f441f3   \n",
       "1  e3f6faebb35e4674a735d97696a0625d   \n",
       "2  60d21add469240cf8b69433560ddaa99   \n",
       "3  e6588b1392bb4c928ccffb55b721412b   \n",
       "4  4d34d32aeb1a475193d6d83ff1075087   \n",
       "\n",
       "                                              título  \\\n",
       "0  90 anos do 9 a 2: histórias e registros do pol...   \n",
       "1   A final do Brasileiro de 1971 - Atlético Campeão   \n",
       "2          A Letra do Hino do Clube Atlético Mineiro   \n",
       "3  Arena MRV - Clube Atletico Mineiro - Enciclope...   \n",
       "4  Atlético Mineiro: história, títulos, ídolos, t...   \n",
       "\n",
       "                                            conteudo  pagina  total_paginas  \n",
       "0  agenda tabelas  Copyright 20002025 Globo Comun...       0              1  \n",
       "1  A final do Brasileiro de 1971  Atlético Campeã...       0              1  \n",
       "2  HINO OFICIAL DO ATLÉTICOMG Adicionado em 07 Fe...       0              1  \n",
       "3  Política de privacidade Sobre a Enciclopédia G...       0              1  \n",
       "4  HOME   EDUCAÇÃO FÍSICA   ESPORTES   FUTEBOL   ...       0              1  "
      ]
     },
     "execution_count": 14,
     "metadata": {},
     "output_type": "execute_result"
    }
   ],
   "source": [
    "df.head(5) "
   ]
  },
  {
   "cell_type": "code",
   "execution_count": 12,
   "metadata": {},
   "outputs": [
    {
     "name": "stdout",
     "output_type": "stream",
     "text": [
      "<class 'pandas.core.frame.DataFrame'>\n",
      "RangeIndex: 59 entries, 0 to 58\n",
      "Data columns (total 5 columns):\n",
      " #   Column         Non-Null Count  Dtype \n",
      "---  ------         --------------  ----- \n",
      " 0   id             59 non-null     object\n",
      " 1   título         59 non-null     object\n",
      " 2   conteudo       59 non-null     object\n",
      " 3   pagina         59 non-null     int64 \n",
      " 4   total_paginas  59 non-null     int64 \n",
      "dtypes: int64(2), object(3)\n",
      "memory usage: 2.4+ KB\n"
     ]
    }
   ],
   "source": [
    "df.info()"
   ]
  },
  {
   "cell_type": "code",
   "execution_count": 17,
   "metadata": {},
   "outputs": [],
   "source": [
    "df.to_csv('documentos_tratados.csv', index=False)"
   ]
  }
 ],
 "metadata": {
  "kernelspec": {
   "display_name": "Python 3",
   "language": "python",
   "name": "python3"
  },
  "language_info": {
   "codemirror_mode": {
    "name": "ipython",
    "version": 3
   },
   "file_extension": ".py",
   "mimetype": "text/x-python",
   "name": "python",
   "nbconvert_exporter": "python",
   "pygments_lexer": "ipython3",
   "version": "3.11.5"
  }
 },
 "nbformat": 4,
 "nbformat_minor": 2
}
