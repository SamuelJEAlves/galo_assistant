{
 "cells": [
  {
   "cell_type": "code",
   "execution_count": null,
   "metadata": {},
   "outputs": [
    {
     "name": "stdout",
     "output_type": "stream",
     "text": [
      "WARNING:tensorflow:From c:\\Users\\samue\\AppData\\Local\\Programs\\Python\\Python311\\Lib\\site-packages\\tf_keras\\src\\losses.py:2976: The name tf.losses.sparse_softmax_cross_entropy is deprecated. Please use tf.compat.v1.losses.sparse_softmax_cross_entropy instead.\n",
      "\n"
     ]
    }
   ],
   "source": [
    "import chromadb\n",
    "import pandas as pd\n",
    "\n",
    "from langchain.vectorstores import Chroma\n",
    "from langchain_huggingface import HuggingFaceEmbeddings\n",
    "from langchain_community.document_loaders import DataFrameLoader"
   ]
  },
  {
   "cell_type": "code",
   "execution_count": 5,
   "metadata": {},
   "outputs": [
    {
     "data": {
      "text/html": [
       "<div>\n",
       "<style scoped>\n",
       "    .dataframe tbody tr th:only-of-type {\n",
       "        vertical-align: middle;\n",
       "    }\n",
       "\n",
       "    .dataframe tbody tr th {\n",
       "        vertical-align: top;\n",
       "    }\n",
       "\n",
       "    .dataframe thead th {\n",
       "        text-align: right;\n",
       "    }\n",
       "</style>\n",
       "<table border=\"1\" class=\"dataframe\">\n",
       "  <thead>\n",
       "    <tr style=\"text-align: right;\">\n",
       "      <th></th>\n",
       "      <th>id</th>\n",
       "      <th>título</th>\n",
       "      <th>conteudo</th>\n",
       "      <th>pagina</th>\n",
       "      <th>total_paginas</th>\n",
       "    </tr>\n",
       "  </thead>\n",
       "  <tbody>\n",
       "    <tr>\n",
       "      <th>0</th>\n",
       "      <td>95d88f6c737c4fcf8817e77b27f441f3</td>\n",
       "      <td>90 anos do 9 a 2: histórias e registros do pol...</td>\n",
       "      <td>agenda tabelas  Copyright 20002025 Globo Comun...</td>\n",
       "      <td>0</td>\n",
       "      <td>1</td>\n",
       "    </tr>\n",
       "    <tr>\n",
       "      <th>1</th>\n",
       "      <td>e3f6faebb35e4674a735d97696a0625d</td>\n",
       "      <td>A final do Brasileiro de 1971 - Atlético Campeão</td>\n",
       "      <td>A final do Brasileiro de 1971  Atlético Campeã...</td>\n",
       "      <td>0</td>\n",
       "      <td>1</td>\n",
       "    </tr>\n",
       "    <tr>\n",
       "      <th>2</th>\n",
       "      <td>60d21add469240cf8b69433560ddaa99</td>\n",
       "      <td>A Letra do Hino do Clube Atlético Mineiro</td>\n",
       "      <td>HINO OFICIAL DO ATLÉTICOMG Adicionado em 07 Fe...</td>\n",
       "      <td>0</td>\n",
       "      <td>1</td>\n",
       "    </tr>\n",
       "  </tbody>\n",
       "</table>\n",
       "</div>"
      ],
      "text/plain": [
       "                                 id  \\\n",
       "0  95d88f6c737c4fcf8817e77b27f441f3   \n",
       "1  e3f6faebb35e4674a735d97696a0625d   \n",
       "2  60d21add469240cf8b69433560ddaa99   \n",
       "\n",
       "                                              título  \\\n",
       "0  90 anos do 9 a 2: histórias e registros do pol...   \n",
       "1   A final do Brasileiro de 1971 - Atlético Campeão   \n",
       "2          A Letra do Hino do Clube Atlético Mineiro   \n",
       "\n",
       "                                            conteudo  pagina  total_paginas  \n",
       "0  agenda tabelas  Copyright 20002025 Globo Comun...       0              1  \n",
       "1  A final do Brasileiro de 1971  Atlético Campeã...       0              1  \n",
       "2  HINO OFICIAL DO ATLÉTICOMG Adicionado em 07 Fe...       0              1  "
      ]
     },
     "execution_count": 5,
     "metadata": {},
     "output_type": "execute_result"
    }
   ],
   "source": [
    "df = pd.read_csv(\"documentos_tratados.csv\")\n",
    "\n",
    "df.head(3)"
   ]
  },
  {
   "cell_type": "code",
   "execution_count": 11,
   "metadata": {},
   "outputs": [],
   "source": [
    "df.rename(columns={\"título\": \"titulo\"}, inplace=True)"
   ]
  },
  {
   "cell_type": "code",
   "execution_count": null,
   "metadata": {},
   "outputs": [
    {
     "name": "stdout",
     "output_type": "stream",
     "text": [
      "59 documentos serão ingeridos\n"
     ]
    }
   ],
   "source": [
    "loader = DataFrameLoader(df, page_content_column=\"conteudo\")\n",
    "docs = loader.load()\n",
    "print(F\"{len(docs)} documentos serão ingeridos\")"
   ]
  },
  {
   "cell_type": "code",
   "execution_count": 14,
   "metadata": {},
   "outputs": [
    {
     "name": "stdout",
     "output_type": "stream",
     "text": [
      "agenda tabelas  Copyright 20002025 Globo Comunicação e Participações SA princípios editoriais política de privacidade minha conta anuncie conosco 90 anos do 9 a 2 histórias e registros do polêmico clássico que sim existiu GloboEsportecom revela detalhes da maior goleada de todos os tempos do confronto entre os rivais AtléticoMG e Cruzeiro na época Palestra Itália que completa nove décadas nesta 2ª feira Por Guilherme Frossard  de Belo Horizonte 27112017 07h02  Atualizado  Como um clássico que teve o incrível placar de 9 a 2 ficou tanto tempo sem ser comentado entre os torcedores de AtléticoMG e Cruzeiro praticamente entrando em pauta apenas em 2011 Por que ainda há especialmente na torcida celeste um rumor de que a partida nunca existiu Quem foram os heróis atleticanos e quem foi Mário de Castro autor de dois gols no jogo e dono da melhor média de gols de um jogador na história do Alvinegro Como por que quando e onde o jogo aconteceu Como a imprensa noticiou a partida na época O duelo dos arquirrivais de Minas com o placar mais extenso da história completa 90 anos nesta segundafeira e o GloboEsportecom produziu uma reportagem especial para contar tudo isso com detalhes  que você até agora provavelmente não conhecia Taça do Campeonato Mineiro de 1927 conquistada pelo AtléticoMG está guardada na sede do clube  Foto Guilherme Frossard O JOGO Em 1927 AtléticoMG e Palestra Itália fundado em 1921 e que se transformou em Cruzeiro apenas no ano de 1942 disputavam o Campeonato da Cidade então com 11 clubes Eram oito de Belo Horizonte dois de Nova Lima e um de Sabará A competição foi disputada no formato de pontos corridos mas tinha duas fases Na primeira todos se enfrentaram em turno único Na segunda os quatro melhores jogaram entre si também em turno único para decidir o campeão O título estava entre AtléticoMG Palestra Itália AméricaMG e Villa Nova É válido ressaltar que na época o futebol em Belo Horizonte era amador A profissionalização veio anos depois já na década de 1930 Os jogadores tinham  ou estudavam para ter  profissões fora do esporte Isso porque não existia a opção jogador de futebol como carreira Não dava para ganhar a vida jogando bola era um hobbie O futebol não dava um centavo sequer aos seus protagonistas Trio maldito  Jairo Said e Mário de Castro marcaram oito dos nove gols no jogo  Foto ReproduçãoSite do AtléticoMG Pois bem na fase final do estadual que ainda não era nomeado Campeonato Mineiro AtléticoMG e Palestra Itália se enfrentaram pela segunda vez na competição A primeira vez havia sido na fase inicial com vitória atleticana por 4 a 2 No dia 27 de novembro de 1927 no penúltimo jogo do campeonato a goleada aconteceu No campo do AméricaMG na Avenida Paraopeba  hoje Augusto de Lima  o Galo derrotou o Palestra por 9 a 2 A escalação do Alvinegro teve Oswaldo Perigoso Hugo Chiquinho Brant Franco Ivo Said Jairo Getulinho Mário de Castro Orion e Getúlio O Palestra entrou em campo com Geraldo Porfírio Rizzo ParaRaio Nininho Osti Nani Bengala Piorra Ninão e Armandinho A partida era disputada em dois tempos de 40 minutos e não 45 como hoje em dia Os gols atleticanos foram marcados por Getúlio Mário de Castro 2 Said 3 e Jairo 3 Ninão com dois gols descontou para os palestrinos Com o resultado o AtléticoMG  que já tinha vencido o Villa Nova na fase final  garantiu o título Foi o terceiro caneco estadual do Galo havia vencido em 1915 e 1926 o primeiro bicampeonato consecutivo interrompendo a série do decacampeonato mineiro do AméricaMG de 1916 a 1925 O Galo jogou a última partida contra o próprio Coelho apenas para cumprir tabela já que o título estava garantido Perdeu por 3 a 2  a única derrota no campeonato Taça do Campeonato Mineiro de 1927  Foto Guilherme Frossard O NOTICIÁRIO A reportagem fez uma pesquisa na Biblioteca Pública Estadual Luiz de Bessa na Praça da Liberdade em Belo Horizonte em busca de conteúdos jornalísticos da época que comprovam e detalham a partida o 9 a 2 Foram encontrados registros em quatro jornais Correio Mineiro Diário de Minas Minas Geraes e Diário da Manhã Com o vocabulário característico da época os periódicos descreveram o jogo com detalhes muito interessantes A expectativa Dois dos quatro jornais que colocaram o jogo em pauta fizeram isso antes mesmo dele acontecer Quem fez o préjogo com mais entusiasmo foi o Correio Mineiro que publicou notas diárias desde a quartafeira da semana da partida sem falhar nenhum dia Quarta quinta sexta e sábado com notas curtas e convidativas De acordo com a tabella organizada pela Liga Mineira terá logar domingo próximo no campo do Barro Preto o encontro ente os clubs Athletico e Palestra em disputa do campeonato da cidade Este jogo é o penúltimo sendo o último disputado entre os clubs Athletico e America ambos possuidores de quadros magnificos O encontro do próximo domingo decidirá da sorte do alvinegro pois vencedor o Athletico este não terá mais dúvida ficando garantido na leaderança da tabella Caso sahia vencedor o Palestra o America fica em boa collocação para o jogo final com o seu antigo rival Pelo exposto vêse que os ultimos jogos de campeonato são de máxima importancia Os tres quadros Atlético Palestra e América que vão disputar o resto do campeonato estão em perfeita forma não se podendo fazer prognostico sobre quem recahirão os louros da victoria  transcrição na íntegra com a ortografia original da época da nota publicada pelo Correio Mineiro na quartafeira dia 23 de novembro de 1927 Continuou no dia seguinte Nota do Correio Mineiro publicada na véspera do jogo  Foto ReproduçãoCorreio Mineiro Continua despertando grande enthusiasmo nos circulos desportistas da Capital o encontro de domingo entre os Clubs Athletico e Palestra no campo deste em prosseguimento do campeonato da serie A da Liga Mineira  Ambos os clubs estão se empenhando em treinos rigorosos sendo de se esperar uma boa partida domingo  disse a publicação de quinta do Correio Mineiro Os concorrentes que são possuidores de esquadras possantes e exercitadas vão apresentar em campo os seus teams com elementos novos sendo de se esperar um bom jogo vista tratarse de dois rivaes fortes e leaes O Palestra que conta com elementos como Odilon e Osti para só falar nos novos está em condições de enfrentar a forte esquadra athleticana que é um dos melhores conjuntos desta capital  disse a nota de sextafeira do Correio Mineiro E finalmente amanhã que os apreciadores do futeból vão apreciar uma boa partida entre os quadros dos clubs Athletico e Palestra no campo deste  A prova dos primeiros quadros  será às 15 horas em ponto As senhoras e senhoritas não pagarão entradas  publicou o Correio Mineiro no sábado véspera do jogo  Primeiros quadros eram os times principais Antes às 13h houve um jogo preliminar dos chamados segundos quadros  equivalentes aos times reservas já que não havia substituição O AtléticoMG também venceu por 3 a 2 Além do Correio Mineiro quem também repercutiu a partida antes de a bola rolar foi o Diário de Minas O jornal publicou uma nota curta na quartafeira dia 23 Nota esportiva do Diário de Minas na semana da partida  Foto ReproduçãoDiário de Minas A nossa capital assistirá domingo próximo a uma bella partida de futebol a ser travada entre as galhardas equipes do Club Athletico Mineiro e Sociedade Sportiva Palestra Italia São bem conhecidos do publico bellorizontino as duas valentes esquadras locaes para que externemos sobre as mesmas o nosso juizo critico Diremos apenas que será um jogo empolgante e pensamos que está dito tudo  resumiu a curiosa publicação A repercussão Domingo a bola rolou os gols saíram aos montes os amantes de futebol em Belo Horizonte compareceram ao campo do AméricaMG e não ao campo do Palestra como diziam as publicações anteriores à partida Tudo transcorreu na mais perfeita ordem e a vida seguiu Segundafeira naquela época não era dia de circulação de jornal Os periódicos com os informes do clássico foram parar nas mãos dos leitores apenas na terça O GloboEsportecom encontrou e separou três publicações do dia 29 de novembro de 1927 para exemplificar a repercussão da goleada Começando pelo Minas Geraes a publicação foi extensa Duas colunas praticamente inteiras em letras miúdas contavam os detalhes da partida O título curiosamente não destacou a goleada e sim o bicampeonato alvinegro O Athletico Mineiro levanta pela segunda vez o campeonato da cidade Abaixo alguns trechos da publicação do Minas Geraes O nosso mundo desportivo teve anteontem uma de suas melhores tardes com o match entre o Club Athletico Mineiro e a S S Palestra Italia para a disputa da semifinal do campeonato da cidade Jogo de grande responsabilidade para ambos os contendores o encontro de domingo foi como se esperava muito renhido apresentando lances de grande emoção As archibancadas e logares adjacentes do stadium do America F C onde se verificou a lueta achavamse repletos de torcedoras salientandose o elemento feminino cuja torcida commandada pelas senhoritas Nenem Alluoto e Horizontina Federiel respectivamente rainha e grãduqueza dos sports de Bello Horizonte foi das mais calorosas e enthusiasticas Pela segunda vez coube ao Club Athletico Mineiro com o resultado da movimentada pugna de domingo o titulo de campeão de Bello Horizonte Pedaço do jornal Minas Geraes  reportagem pósjogo  Foto ReproduçãoMinas Geraes A partir daí o jornal começa a descrever o jogo com uma espécie de lance a lance na ordem cronológica dos fatos Por fim conclui Com mais alguns ataques do Athletico termina o jogo às 16h50 com o seguinte resultado Athletico 9 Palestra 2 O Correio Mineiro  o mesmo que fez reportagens nos quatro dias que antecederam o jogo  publicou uma matéria completa detalhando a conquista do título pelo AtléticoMG Começou com uma descrição geral do ambiente e do confronto de domingo Em disputa do campeonato da cidade encontraramse domingo as aguerridas esquadras dos clubes Athletico e Palestra Tratandose do penultimo jogo do campeonato do corrente anno de que era um dos concorrentes o ponteiro da tabella AtléticoMG a atenção geral foi despertada para o encontro que se dizia sensacional E o campo do America local do embate apanhou colossal assistencia torcida que applaudiu com delirante enthusiasmo os jogadores das suas côres predilectas As gentis e graciosas torcedoras não faltaram à disputa do importante prelio comparecendo em grande numero ao campo dando a este animação extraordinaria e agradavel aspecto A torcida masculina como sempre esteve firme no campo do alviverde torcendo pelo clube de sua predilecção E não obstante os boatos que correram pela cidade não se registrou nenhum sururu briga  introduziu o Correio Mineiro Depois disso o jornal faz uma breve menção ao jogo preliminar dos times reservas e emenda com as escalações dos times principais e do árbitro o Sr José Avelino Na sequência o Correio Mineiro faz como o Minas Geraes e publica uma espécie de lance a lance do jogo que termina desta forma E sem mais nada digno de interesse o juiz apitou dando por fim o jogo às 16h50 com o seguinte resultado Athletico 9 Palestra 2 O Correio Mineiro dá sequência à completa cobertura com uma avaliação positiva do árbitro O Sr José Avelino apitou bem a partida demonstrando às vezes desconhecer as novas regras de futeból De vez em quando batia a qualquer pretexto a bola no centro do campo Manda a justiça porém dizer que o Sr José Avelino foi um juiz energico e sobretudo honesto Na sequência há uma avaliação sobre os dois times com destaques individuais de cada lado seguida de um texto sobre a comemoração do AtléticoMG e de sua torcida Pedaço do jornal Correio Mineiro  reportagem pósjogo  Foto ReproduçãoCorreio Mineiro Terminando o jogo a torcida do Athletico entregouse às mais expansivas manifestações  pela victoria do seu clube Foram erguidos vivas ao Athletico ao Dr Leandro de Moura Costa presidente do clube vencedor e ao Correio Mineiro Às 19 horas no restaurante Guarany foi offerecido um jantar aos vencedores do jogo de domingo tomando parte no ágape aos 22 jogadores triumphadores e Dr Moura Costa e varios athleticanos veteranos O jantar decorreu em um ambiente de cordialidade sendo trocados varios brindes  concluiu a matéria extensa do Correio Mineiro sobre o campeão mineiro de 1927 Por fim há o registro da extensa matéria do Diário da Manhã também publicada no dia 29 terçafeira O periódico usou o seguinte título O Athletico antehontem obteve linda e facil victoria sobre o Palestra O subtítulo Depois de haverem resistido no primeiro tempo os palestrinos deixaramse abater fragarosamente Seria injusto da nossa parte se não realçassemos a linda victoria do Athletico Mineiro obtida domingo ultimo sobre a valorosa esquadra do Palestra Italia Com a nossa independencia do costume e reconhecida imparcialidade não podemos deixar de fazer elogiosas referencias à magnifica actuação dos vencedores de antehontem que souberam durante toda a pugna se empregar com tenacidade bastante fazendose merecedores da victoria alcançada  A tarde sportiva de antehontem no campo do America não foi má Lá estiveram as torcidas dos dois clubs que se encontraram não faltando o enthusiasmo que sempre provocam as grandes pelejas de football  disse a publicação do Diário da Manhã Pedaço do jornal Diário da Manhã  reportagem pósjogo  Foto ReproduçãoDiário da Manhã Antes de entrar no lance a lance comum nos três jornais que reportaram a partida na terçafeira seguinte o Diário da Manhã fez um resumo das razões que levaram o AtléticoMG à vitória com larga folga Mais solido e articulado não foi dificil ao Athletico abater o Palestra Italia cujo team além de aparecer integrado com dois elementos secundarios reservas desorientouse por completo empregando um jogo violento e prejudicial que lhe valeu a derrota O team preto e branco deve especialmente a victoria à magnifica atuação de sua linha atacante devendose accrescentar que tambem alguns jogadores do Palestra collaboraram nesse triumpho pois tiveram uma marcação defeituosa e auxiliaram mal o ataque à excepção do centro médio Osti que pelo menos nesse particular portouse com alguma habilidade  resume o Diário da Manhã A RIVALIDADE DA ÉPOCA O Palestra Itália foi fundado em 1921 O AtléticoMG já existia desde 1908 e o AméricaMG desde 1912 Galo e Coelho eram os grandes rivais de Belo Horizonte O duelo entre os dois era chamado de clássico das multidões A história começou a mudar justamente com o início da trajetória do Palestra que rapidamente alcançou relevância e sucesso no cenário estadual começando ainda na década de 1920 a aparecer como o principal rival do AtléticoMG  e a tirar um pouco do protagonismo e dos holofotes do AméricaMG Há também um pesquisador que estudou justamente a rivalidade entre AtléticoMG e Palestra Itália entre 1921 e 1942 quando o Palestra virou Cruzeiro É Rogério Othon mestre em Estudos do Lazer pela Universidade Federal de Minas Gerais UFMG e professor da Universidade Estadual de Montes Claros Unimontes Rogério escreveu a pesquisa A Lucta dos Titans com a história da rivalidade entre os dois clubes O GloboEsportecom conversou com ele para entender qual era o grau de concorrência entre AtléticoMG e Palestra Itália em 1927 o ano do 9 a 2 Ele explica que o momento marca o início do enfraquecimento do AméricaMG e a consolidação do Palestra  depois Cruzeiro  como grande força do estado ao lado do AtléticoMG Rivalidade entre Galo e Cruzeiro teve início na década de 1920  Foto Bruno Cantini  Fickr do AtléticoMG  É uma rivalidade que nasceu na década de 1920 Sei que há muita discussão entre as duas torcidas sobre esse jogo mas é verdade ele aconteceu Não só aconteceu como foi um jogo muito importante Marcou o primeiro bicampeonato do AtléticoMG e ele seria muito importante não só por ser o primeiro mas também por marcar o fim da hegemonia americana depois do decacampeonato 19161925 No ano seguinte ao 9 a 2 1928 o Palestra Itália chegou com uma pegada mais profissional Eles tinham sido vicecampeões por seis vezes de 1922 um ano após a fundação a 1927 Em 1926 e 1927 o AtléticoMG foi campeão Em 1928 1929 e 1930 o Palestra Itália foi pela primeira vez campeão mineiro Não só campeão mas tricampeão Ele foi buscar jogadores que atuavam no Palestra Itália de São Paulo hoje o Palmeiras trouxe um técnico de fora e conseguiu transformar o Palestra Itália numa equipe imbatível por três anos O fortalecimento do Palestra portanto era contínuo Os resultados em campo provavam isso O AméricaMG ia perdendo força em Minas Gerais e a rivalidade entre alvinegros e palestrinos crescia  O 9 a 2 é muito importante por isso Não só o placar elástico demonstrando a superioridade do AtléticoMG naquele ano como também a rivalidade que se instauraria entre as duas equipes marcando o início da decadência do AméricaMG que não teria mais os dias de glória tão amplos Isso foi amplamente divulgado na imprensa da época Marca uma rivalidade que em pouco tempo se tornará centenária entre o Clube Atlético Mineiro e o Palestra Itália depois Cruzeiro Posso afirmar que a rivalidade entre AtléticoMG e Palestra Itália é algo que nasce e se consolida na década de 1920 em função dos seus jogos da ida dos torcedores aos jogos em grande quantidade até da própria violência que existia nas arquibancadas dos estádios da época e principalmente dos resultados obtidos tanto por AtléticoMG quanto por Palestra O América MG era tido como a grande equipe no início dos campeonatos mas foi arrefecendo o seu poderio futebolístico com o passar do tempo  concluiu Rogério O PALCO Hoje em dia o torcedor da capital mineira é acostumado a ver os jogos no Mineirão e no Independência estádios com grande capacidade de público e boa estrutura Em 1927 Belo Horizonte estava engatinhando na infraestrutura do futebol Até 1923 para se ter ideia o único estádio gramado da capital mineira era o do Prado Mineiro que havia sido construído para corridas de cavalo A década do 9 a 2 coincide com o momento em que os clubes começam a planejar e construir seus próprios estádios O primeiro foi o AméricaMG Campo onde foi disputado o clássico do 9 a 2 foto de 1923  Foto ReproduçãoEnciclopédia do AméricaMG Para entender melhor o cenário dos palcos da bola de Belo Horizonte o GloboEsportecom conversou com o professor Georgino Neto doutor em Estudos do Lazer pela UFMG e membro do Grupo de Estudos Sobre Futebol e Torcidas Gefut Uma das suas pesquisas na área é voltada justamente para os antigos estádios de Belo Horizonte Com base nela ele explica  É legal a gente fazer uma diferenciação entre campo e estádio O Atlético tinha um campo onde é o Minascentro hoje em frente ao Mercado Central Mas não era um estádio Era um terreno onde o Atlético treinava mas não era um campo que a Liga usava para o campeonato da cidade que depois virou Campeonato Mineiro Até 1923 o principal estádio usado pela Liga que era gramado com arquibancada e geral era o Prado Mineiro que foi construído para corridas de cavalo Mas o pessoal do futebol se apropriou dele quando o Prado faliu Em 1923 o América pegou o terreno que tinha onde é hoje o Mercado Central onde tinha um campo e constriu o estádio inaugurado em 1923 Seria naquele momento o melhor estádio da cidade Tinha uma capacidade muito maior de público do que o Prado Maior para a época claro eram cinco mil pessoas Mas naquele mesmo ano de 1923 o Palestra inaugurou o começo do seu estádio que no momento era chamado de Estadinho do Palestra Era bem modesto em 1923 depois ele foi reformado e ficou bem maior Também era na Paraopeba Esse Estadinho do Palestra era onde hoje é o clube social do Cruzeiro na avenida Augusto de Lima Você tinha esses dois estádios O Atlético só passou a ter um estádio mesmo em 1929 onde hoje é o Diamond Mall Esse era o desenho dos estádios na capital na década de 1920 O clássico do dia 27 de novembro portanto como indicam as reportagens dos dias que antecederam o jogo estava previsto para o Estadinho do Palestra mas teve o local alterado devido ao grande apelo e proporção que o evento ganhou Optaram por jogar no campo do AméricaMG o melhor da cidade à época com estrutura para receber mais torcedores MUDANÇA DRÁSTICA De 27 de novembro de 1927 até 4 dezembro de 2011 data em que o Cruzeiro goleou o AtléticoMG por 6 a 1 no Brasileirão de 2011 se passaram exatamente 84 anos e sete dias Nesse período quase nada se falou sobre o 9 a 2 Por que O GloboEsportecom conversou com outro especialista no assunto Marcelino Rodrigues é professor da Faculdade de Letras da UFMG e tem um amplo estudo sobre as narrativas históricas do futebol mineiro Ou seja sobre tudo o que foi contado sobre o futebol no estado desde os primórdios Ele explica que houve em relação ao jogo de 1927 uma ressignificação e uma mudança drástica na relevância do jogo a partir de 2011 Em 2011 o Cruzeiro venceu o AtléticoMG por 6 a 1 atleticanos resgataram o 9 a 2 como resposta  Foto Douglas MagnoAgência Estado  A história começou a ser falada depois do 6 a 1 Isso porque o passado é sempre reinventado na perspectiva do presente a partir dos interesses do presente Os acontecimentos são ressignificados É o que aconteceu com o 9 a 2 Depois do 6 a 1 o 9 a 2 ganhou um outro significado uma outra relevância Começou a ser um acontecimento relevante do passado que deveria ser lembrado rememorado por ter sido a maior goleada Não há dúvida aconteceu Mas o lance sobre as narrativas do passado é isso o acontecimento em si não é importante por si só O acontecimento só é importante quando está inserido em uma narrativa em uma rede de significados É o que dá sentido a ele importância valor Essa rede em relação ao 9 a 2 não existia Só existiu depois do 6 a 1 Ou seja o passado foi reinventado O jogo aconteceu mas como dizia Nelson Rodrigues O fato em si vale pouco ou nada O jogo em si não vale por si só Ele vale dentro da história E a história é o que se conta A gente sempre reinventa a história a partir dos nossos interesses atuais da nossa visão de mundo Toda narrativa está carregada de interesse de intenção Do ponto de vista da linguagem não existe completa imparcialidade O fato é pouco O que acontece é pouco O que a gente entende do passado é muito mais do que o que definitivamente aconteceu A gente sabe que aquilo está dentro de uma rede O fato só existe dentro da interpretação Na prática portanto o 9 a 2 foi resgatado da memória em função da rivalidade em função da necessidade do torcedor atleticano contra argumentar com o rival na discussão sobre goleadas históricas O jogo sempre esteve na história dos clubes mas antes de 2011 não tinha um grande apelo Passou a ter a partir do 6 a 1 de 2011 e foi ressignificado ampliado no contexto da rivalidade O TRIO MALDITO E MÁRIO DE CASTRO Dos nove gols marcados pelo AtléticoMG no clássico do dia 27 de novembro de 1927 oito foram de autoria de um dos integrantes do Trio Maldito Eram os três atacantes do Galo por Said Jairo e Mário de Castro todos já falecidos O último a partir para o andar de cima foi Mário de Castro em 30 de abril de 1998 aos 92 anos O GloboEsportecom visitou a casa da família do histórico artilheiro que além de fazer dois gols no 9 a 2 marcou outros 193 com a camisa alvinegra Ele ostenta a melhor média de gols de um atacante na história do clube 195 por partida 195 gols em 100 jogos Segundo o AtléticoMG inclusive é a maior média de gols conhecida entre atletas de futebol do Brasil em todos os tempos A casa que fica no bairro Nova Granada é recheada de elementos históricos da vida de Mário de Castro Era doutor Assim como Jairo seu parceiro de ataque cursou medicina em Belo Horizonte Natural de Formiga viajou para Belo Horizonte com o intuito de estudar O futebol entrou no caminho mas por pouco a história de Mário não teria como plano de fundo as cores verde preto e branco Quando formou em medicina Mário de Castro largou o futebol  Foto ReproduçãoAcervo familiar  Ele contava que quando veio de Formiga para Belo Horizonte chuteira era uma coisa muito difícil não tinha chuteira para vender Ele ganhou uma chuteira de um amigo mas veio sem cadarço Com muita habilidade ele arrumou alguns arames e foi fechando amarrando a chuteira E foi jogar no América com essa chuteira Chegou lá e o técnico do América começou a pegar no pé dele Você não tem nem chuteira o que veio fazer aqui Ele foi embora foi jogar no Atlético Quando ganhou o campeonato de 1927 começou a fazer gol atrás de gol E o América foi atrás dele Aí ele negou Não O primeiro lugar que bati foi lá mas vocês não me quiseram porque nem chuteira eu tinha Ficou uma mágoa  conta Andréa de Castro dentista e neta do exartilheiro Família de Mário de Castro filha à direita com as netas do artilheiro  Foto Guilherme Frossard O episódio mostra o quão orgulhoso era o doutor Mário de Castro E não foi só em relação ao AméricaMG que o orgulho falou mais alto Mário teve a oportunidade de ser o primeiro jogador de um clube mineiro a disputar uma Copa do Mundo de 1930 pela Seleção Brasileira Recusou Também teve a chance de se profissionalizar e atuar no Fluminense Não quis O foco era a medicina  Ele foi o primeiro jogador de Minas Gerais a ser convocado para a Seleção Ia disputar a Copa de 1930 mas não quis ir porque ia ficar como reserva do Carvalho Leite que era do Botafogo Depois fizeram dois jogos para ver qual dos dois era melhor Nos dois jogos meu avô marcou cinco gols o Carvalho Leite marcou três Mostrou que meu avô Mário de Castro era melhor Também seria um dos primeiros jogadores a ser comprado O Fluminense esteve em Belo Horizonte querendo comprar o passe dele Fizeram uma proposta mas ele estava estudando e focado na medicina O objetivo era a medicina era ser médico Ele fez uma contraproposta absurda Queria o dobro do que foi proposto e queria ganhar 500 contos de réis por gol Como fazia muito gol o Fluminense não aceitou a proposta Mário de Castro faleceu em 1998 aos 92 anos  Foto ReproduçãoAcervo familiar Com base nas histórias Andréa descreve o falecido avô Apaixonado por futebol Muito Afinal fazia de graça  Eles jogavam de forma amadora Era um ajudando o outro O Trio Maldito fez muitos jogos teve muito sucesso Eles jogavam por amor à camisa Era puramente por amor porque não recebiam nada Legenda da foto guardada pela família Mário de Castro um supercraque do final dos anos 20 um artilheiro que marcou 195 gols em apenas cinco anos de Atlético e nunca cobrou nada por isso  Foto ReproduçãoAcervo familiar As características vão aparecendo conforme o papo  regado a um bom café  também avança Além de artilheiro apaixonado e orgulhoso Mário de Castro o Orion também era travesso Aliás que papo é esse de Orion Andréa explica Placa do exconsultório do então médico  e jogador  Foto Guilherme Frossard  O apelido dele Orion é porque a mãe dele que ficou em Formiga não aceitava que jogasse futebol Um amigo sugeriu Vamos colocar seu nome de trás para frente Era para ser Oriam mas a torcida não entendia e começou a gritar Orion Era para ser Oriam que seria Mário de trás para frente Ele era danado Gostava de uma farra Gostava de uma pinguinha de uma cerveja Muitas vezes jogou com uma ressaca grande E fazia muitos gols assim mesmo Não tinha concentração treino nada Ia na cara e na coragem E teve uma média de quase dois gols por jogo Imagina o que faria hoje com toda a infraestrutura e apoio Mas e o 9 a 2 A história de Mário de Castro é um território espetacular para o lúdico para a diversão do apaixonado pelo futebol Os causos são infinitos mas voltando ao assunto original ao assunto que aumenta ainda mais a relevância de Mário de Castro e o 9 a 2 O que ele falava do jogo Segundo a família não falava muito só quando era cutucado  O meu pai era cruzeirense sempre brincava com ele Quando o Cruzeiro ganhava do Atlético meu avô falava já ganhei de vocês de muito mais risos Sempre frisava isso Ele marcou dois gols mas ajudou nos outros gols com passes jogadas Ele contribuiu muito  conta Andréa orgulhosa Filha de Mário de Castro Vanda exibe camisa em homenagem ao pai em frente à imagem dele no painel que homanegeia ídolos do clube na sede administrativa  Foto Arquivo pessoal O AtléticoMG tem  e sempre teve  ciência da relevância de Mário de Castro na história da entidade Prova disso é a imagem dele como a primeira no muro de ídolos na sede do clube no bairro de Lourdes onde a Sra Vanda de Castro filha do exgoleador exibe com orgulho uma camisa comemorativa usada por Robinho em 2017 com o nome do pai veja na foto acima Os ídolos se vão mas o legado fica De um lado vencedor naquela ocasião o AtléticoMG de Mário de Castro Jairo Said e companhia Do outro Ninão Nininho e toda uma geração forte que serviu de base para o crescimento do Palestra hoje Cruzeiro As recordações sempre vivas ajudam a manter forte o futebol mineiro Afinal o clássico já é quase centenário E vem história por aí Veja também Mais do ge globocom g ge gshow globoply crtol sportv Cont Globo há 7 anos ATLÉTICOMG VEJA MAIS Conheça a casa temática do Grêmio que é ponto turístico em Santa Catarina Torcedora decorou todos os cômodos da residência com objetos fotos e as cores do clube do coração Em grêmio O drama de Luan exRei da América não joga há um ano e cogita até abandonar o futebol Craque do continente em 2017 exGrêmio e Corinthians tem vida discreta no interior de SP busca novos investimentos e avalia futuro após problemas com álcool perdas e decepções na carreira Em futebol CBF mantém conversas com Jorge Jesus como plano B para evitar novela por Ancelotti Italiano é o preferido mas entidade trabalha com a informação de que abrir mão do Mundial pelo AlHilal não seria um problema para o português que assim poderia treinar a Seleção em junho Em seleção brasileira Abraço de Raphinha e Scaloni viraliza nas redes sociais veja foto Treinador da Argentina disse desculpar brasileiro por fala polêmica antes de goleada no clássico Não falou de propósito Em futebol argentino Corinthians x Palmeiras onde assistir ao vivo horário e escalações Veja também desfalques arbitragem e outras informações do segundo e decisivo jogo da final do Campeonato Paulista Em campeonato paulista Entenda por que RBR trocou piloto após duas corridas na F1 2025 Liam Lawson foi substituído por Yuki Tsunoda egresso da RB que é equipeirmã do time de Max Verstappen Mudança já vale a partir do GP do Japão Em fórmula 1 Corinthians tem a maior média de público em 2025 Cruzeiro é o segundo veja ranking Timão leva mais de 44 mil torcedores nos jogos na Neo Química Arena no ano Cruzeiro Flamengo Palmeiras e Grêmio completam o top 5 Quatro clubes da Série A ficam fora da lista Em estatísticas Madrid Open confirma participação de João Fonseca Grande sensação da ATP Tenista brasileiro venceu sua primeira partida da carreira no Masters 1000 da capital espanhola no ano passado quando tinha 17 anos Em tênis 49 seg globo MENU ATLÉTICOMG\n",
      "{'id': '95d88f6c737c4fcf8817e77b27f441f3', 'titulo': '90 anos do 9 a 2: histórias e registros do polêmico clássico que, sim, existiu | atlético-mg | ge', 'pagina': 0, 'total_paginas': 1}\n",
      "90 anos do 9 a 2: histórias e registros do polêmico clássico que, sim, existiu | atlético-mg | ge\n"
     ]
    }
   ],
   "source": [
    "print(docs[0].page_content)\n",
    "print(docs[0].metadata)\n",
    "print(docs[0].metadata[\"titulo\"])"
   ]
  },
  {
   "cell_type": "code",
   "execution_count": 15,
   "metadata": {},
   "outputs": [
    {
     "data": {
      "application/vnd.jupyter.widget-view+json": {
       "model_id": "9f9f68b5a41f43f7a4526e209ab38675",
       "version_major": 2,
       "version_minor": 0
      },
      "text/plain": [
       "modules.json:   0%|          | 0.00/461 [00:00<?, ?B/s]"
      ]
     },
     "metadata": {},
     "output_type": "display_data"
    },
    {
     "name": "stderr",
     "output_type": "stream",
     "text": [
      "c:\\Users\\samue\\AppData\\Local\\Programs\\Python\\Python311\\Lib\\site-packages\\huggingface_hub\\file_download.py:142: UserWarning: `huggingface_hub` cache-system uses symlinks by default to efficiently store duplicated files but your machine does not support them in C:\\Users\\samue\\.cache\\huggingface\\hub\\models--sentence-transformers--LaBSE. Caching files will still work but in a degraded version that might require more space on your disk. This warning can be disabled by setting the `HF_HUB_DISABLE_SYMLINKS_WARNING` environment variable. For more details, see https://huggingface.co/docs/huggingface_hub/how-to-cache#limitations.\n",
      "To support symlinks on Windows, you either need to activate Developer Mode or to run Python as an administrator. In order to activate developer mode, see this article: https://docs.microsoft.com/en-us/windows/apps/get-started/enable-your-device-for-development\n",
      "  warnings.warn(message)\n"
     ]
    },
    {
     "data": {
      "application/vnd.jupyter.widget-view+json": {
       "model_id": "19c0b51563c04597bd48de0890406a83",
       "version_major": 2,
       "version_minor": 0
      },
      "text/plain": [
       "config_sentence_transformers.json:   0%|          | 0.00/122 [00:00<?, ?B/s]"
      ]
     },
     "metadata": {},
     "output_type": "display_data"
    },
    {
     "data": {
      "application/vnd.jupyter.widget-view+json": {
       "model_id": "603e47216c8a46c5ab7c530df4798511",
       "version_major": 2,
       "version_minor": 0
      },
      "text/plain": [
       "README.md:   0%|          | 0.00/2.02k [00:00<?, ?B/s]"
      ]
     },
     "metadata": {},
     "output_type": "display_data"
    },
    {
     "data": {
      "application/vnd.jupyter.widget-view+json": {
       "model_id": "375f72c455da43119b4774158ec9baa8",
       "version_major": 2,
       "version_minor": 0
      },
      "text/plain": [
       "sentence_bert_config.json:   0%|          | 0.00/53.0 [00:00<?, ?B/s]"
      ]
     },
     "metadata": {},
     "output_type": "display_data"
    },
    {
     "data": {
      "application/vnd.jupyter.widget-view+json": {
       "model_id": "3e97631318594ab1bb4d63d9029f069e",
       "version_major": 2,
       "version_minor": 0
      },
      "text/plain": [
       "config.json:   0%|          | 0.00/804 [00:00<?, ?B/s]"
      ]
     },
     "metadata": {},
     "output_type": "display_data"
    },
    {
     "data": {
      "application/vnd.jupyter.widget-view+json": {
       "model_id": "f3722be70fd0492fbc2704ae8b81f3d6",
       "version_major": 2,
       "version_minor": 0
      },
      "text/plain": [
       "model.safetensors:   0%|          | 0.00/1.88G [00:00<?, ?B/s]"
      ]
     },
     "metadata": {},
     "output_type": "display_data"
    },
    {
     "data": {
      "application/vnd.jupyter.widget-view+json": {
       "model_id": "cdabffddd5da49c9bb3b2ff7cf1c176c",
       "version_major": 2,
       "version_minor": 0
      },
      "text/plain": [
       "tokenizer_config.json:   0%|          | 0.00/397 [00:00<?, ?B/s]"
      ]
     },
     "metadata": {},
     "output_type": "display_data"
    },
    {
     "data": {
      "application/vnd.jupyter.widget-view+json": {
       "model_id": "7110ff41b71f4a64b4232e4d6bd8e024",
       "version_major": 2,
       "version_minor": 0
      },
      "text/plain": [
       "vocab.txt:   0%|          | 0.00/5.22M [00:00<?, ?B/s]"
      ]
     },
     "metadata": {},
     "output_type": "display_data"
    },
    {
     "data": {
      "application/vnd.jupyter.widget-view+json": {
       "model_id": "7b39001cbc334165bcb86706c5825e02",
       "version_major": 2,
       "version_minor": 0
      },
      "text/plain": [
       "tokenizer.json:   0%|          | 0.00/9.62M [00:00<?, ?B/s]"
      ]
     },
     "metadata": {},
     "output_type": "display_data"
    },
    {
     "data": {
      "application/vnd.jupyter.widget-view+json": {
       "model_id": "08959a0205d8482682ca927763a481a9",
       "version_major": 2,
       "version_minor": 0
      },
      "text/plain": [
       "special_tokens_map.json:   0%|          | 0.00/112 [00:00<?, ?B/s]"
      ]
     },
     "metadata": {},
     "output_type": "display_data"
    },
    {
     "data": {
      "application/vnd.jupyter.widget-view+json": {
       "model_id": "c5431186abf641ce8b6d5270e96033ee",
       "version_major": 2,
       "version_minor": 0
      },
      "text/plain": [
       "config.json:   0%|          | 0.00/190 [00:00<?, ?B/s]"
      ]
     },
     "metadata": {},
     "output_type": "display_data"
    },
    {
     "data": {
      "application/vnd.jupyter.widget-view+json": {
       "model_id": "fec81deef26d4f2696167060ab0d8efe",
       "version_major": 2,
       "version_minor": 0
      },
      "text/plain": [
       "model.safetensors:   0%|          | 0.00/2.36M [00:00<?, ?B/s]"
      ]
     },
     "metadata": {},
     "output_type": "display_data"
    },
    {
     "data": {
      "application/vnd.jupyter.widget-view+json": {
       "model_id": "dd496196efac496fa03f14ecb837f4bb",
       "version_major": 2,
       "version_minor": 0
      },
      "text/plain": [
       "pytorch_model.bin:   0%|          | 0.00/2.36M [00:00<?, ?B/s]"
      ]
     },
     "metadata": {},
     "output_type": "display_data"
    },
    {
     "data": {
      "application/vnd.jupyter.widget-view+json": {
       "model_id": "e950cdcc3dc64e4bbfc748aa670be52f",
       "version_major": 2,
       "version_minor": 0
      },
      "text/plain": [
       "config.json:   0%|          | 0.00/114 [00:00<?, ?B/s]"
      ]
     },
     "metadata": {},
     "output_type": "display_data"
    }
   ],
   "source": [
    "embeddings = HuggingFaceEmbeddings(model_name=\"sentence-transformers/LaBSE\")"
   ]
  },
  {
   "cell_type": "code",
   "execution_count": null,
   "metadata": {},
   "outputs": [
    {
     "name": "stderr",
     "output_type": "stream",
     "text": [
      "C:\\Users\\samue\\AppData\\Local\\Temp\\ipykernel_22660\\2323053059.py:1: LangChainDeprecationWarning: The class `Chroma` was deprecated in LangChain 0.2.9 and will be removed in 1.0. An updated version of the class exists in the :class:`~langchain-chroma package and should be used instead. To use it run `pip install -U :class:`~langchain-chroma` and import as `from :class:`~langchain_chroma import Chroma``.\n",
      "  vector_local = Chroma(\n"
     ]
    },
    {
     "data": {
      "text/plain": [
       "'galo'"
      ]
     },
     "execution_count": 16,
     "metadata": {},
     "output_type": "execute_result"
    }
   ],
   "source": [
    "vector_local = Chroma(\n",
    "    collection_name=\"galo\",   \n",
    "    embedding_function=embeddings,\n",
    "    persist_directory=\"./local_chroma_db\",\n",
    ")\n",
    "\n",
    "vector_local._collection.name"
   ]
  },
  {
   "cell_type": "code",
   "execution_count": null,
   "metadata": {},
   "outputs": [
    {
     "name": "stdout",
     "output_type": "stream",
     "text": [
      "environment='' chroma_api_impl='chromadb.api.segment.SegmentAPI' chroma_server_nofile=None chroma_server_thread_pool_size=40 tenant_id='default' topic_namespace='default' chroma_server_host=None chroma_server_headers=None chroma_server_http_port=None chroma_server_ssl_enabled=False chroma_server_ssl_verify=None chroma_server_api_default_path='/api/v1' chroma_server_cors_allow_origins=[] is_persistent=True persist_directory='./local_chroma_db' chroma_memory_limit_bytes=0 chroma_segment_cache_policy=None allow_reset=False chroma_auth_token_transport_header=None chroma_client_auth_provider=None chroma_client_auth_credentials=None chroma_server_auth_ignore_paths={'/api/v1': ['GET'], '/api/v1/heartbeat': ['GET'], '/api/v1/version': ['GET']} chroma_overwrite_singleton_tenant_database_access_from_auth=False chroma_server_authn_provider=None chroma_server_authn_credentials=None chroma_server_authn_credentials_file=None chroma_server_authz_provider=None chroma_server_authz_config=None chroma_server_authz_config_file=None chroma_product_telemetry_impl='chromadb.telemetry.product.posthog.Posthog' chroma_telemetry_impl='chromadb.telemetry.product.posthog.Posthog' anonymized_telemetry=True chroma_otel_collection_endpoint='' chroma_otel_service_name='chromadb' chroma_otel_collection_headers={} chroma_otel_granularity=None migrations='apply' migrations_hash_algorithm='md5' chroma_segment_directory_impl='chromadb.segment.impl.distributed.segment_directory.RendezvousHashSegmentDirectory' chroma_memberlist_provider_impl='chromadb.segment.impl.distributed.segment_directory.CustomResourceMemberlistProvider' worker_memberlist_name='query-service-memberlist' chroma_server_grpc_port=None chroma_sysdb_impl='chromadb.db.impl.sqlite.SqliteDB' chroma_producer_impl='chromadb.db.impl.sqlite.SqliteDB' chroma_consumer_impl='chromadb.db.impl.sqlite.SqliteDB' chroma_segment_manager_impl='chromadb.segment.impl.manager.local.LocalSegmentManager' chroma_quota_provider_impl=None chroma_rate_limiting_provider_impl=None chroma_db_impl=None chroma_collection_assignment_policy_impl='chromadb.ingest.impl.simple_policy.SimpleAssignmentPolicy' chroma_coordinator_host='localhost' chroma_logservice_host='localhost' chroma_logservice_port=50052\n"
     ]
    },
    {
     "data": {
      "text/plain": [
       "Collection(id=404f2bec-de9b-4154-a3ca-e7901964eced, name=galo)"
      ]
     },
     "execution_count": 20,
     "metadata": {},
     "output_type": "execute_result"
    }
   ],
   "source": [
    "print(vector_local._client_settings)\n",
    "vector_local._collection"
   ]
  },
  {
   "cell_type": "code",
   "execution_count": 21,
   "metadata": {},
   "outputs": [
    {
     "data": {
      "text/plain": [
       "['1efb8b92-3215-44fc-b760-677dac897fb2',\n",
       " '0bff2629-8983-40f7-970e-51c132edd97b',\n",
       " '15fc4470-e3e9-4879-8a17-d86d0b484951',\n",
       " '0126329a-020f-4d51-a585-5169938018bb',\n",
       " '7b510807-c0f2-42dc-873b-4004f1ccdf6a',\n",
       " '151a5b82-62a7-46fb-8b0c-95909cb2a230',\n",
       " '58332dea-1b85-4b1f-a5ce-98fa1b6fd30e',\n",
       " '6d0f5d3d-d5ce-456a-b229-20ae55ea22a6',\n",
       " '966ef096-e6db-4bfe-9d09-0a6cc441c032',\n",
       " 'f0219ce4-6cde-4b76-99d7-c9727ad2cbd9',\n",
       " '8da47f94-b880-44ab-873f-cf03d2387293',\n",
       " '708bb405-c9e0-4761-84d7-dcb17f18657d',\n",
       " '3f89ddcf-505f-46ca-ae7d-a19902c259e0',\n",
       " '3c4a03cb-47ce-4e45-8a9e-9255a8d25fc0',\n",
       " '9277ea5f-ef39-4e72-b0de-7a64dab58e17',\n",
       " '686e5a9e-6a66-43b1-8751-5239a00bd4de',\n",
       " '032186a7-9a3a-4b34-a759-ace1127328d0',\n",
       " '3770ab8a-b3f3-433a-80d9-92f9ed81373d',\n",
       " '631da9cf-6fe0-44f3-b96b-799731eea203',\n",
       " '0e0e4d9b-5c1f-4de2-babb-e7bb6e4d5f61',\n",
       " '43e2c002-7e6b-4bf4-af1e-8a6a6a9c9d06',\n",
       " '28b85232-a17d-4ed2-b299-e6dd0f40978c',\n",
       " '971daa2d-6140-4a78-8846-37324fedb520',\n",
       " '1f0edbe8-40ec-4b2c-b988-f5e1cf5f83c8',\n",
       " '1a72195e-2258-4e7a-8be9-9054f657118a',\n",
       " '415d0478-8d16-428c-8817-db2a99199187',\n",
       " '4392b781-ea28-4252-a5d7-d16e9df1d804',\n",
       " 'c44942b0-5630-4411-b4f1-2530bf21dffd',\n",
       " '3d57a706-6352-493d-b695-8742fcc5caab',\n",
       " '4436839a-6f36-49db-bb11-eac4285f699e',\n",
       " '366dfa88-0352-4d7b-a01f-951f2921490c',\n",
       " '4ef65762-7a07-452c-adab-9dbe47921821',\n",
       " '441d3547-31ec-4b92-8db2-6459a91118d1',\n",
       " '210ac9fe-eaa7-4209-86c7-0185d47bedd4',\n",
       " '9b4b7a20-043e-4a18-8d20-2148c36f69e0',\n",
       " '56d8736c-bd26-4603-bac9-d271d295b70f',\n",
       " '524c5fa3-8c64-485d-a14e-778683252006',\n",
       " 'cdaaf0fe-5e5e-4f41-9979-ba99d50eb4e0',\n",
       " '04a024d4-4259-42b5-8727-ddac13819a8a',\n",
       " '41841ccc-978c-4c28-adf7-bfb7592e7ddb',\n",
       " 'b399797c-0f0d-4588-a665-46e87c80f2f6',\n",
       " 'efcc7d6c-af28-49f9-abaf-4258ac564157',\n",
       " 'fd1a2228-c07b-48d9-9aa2-ba806df1809f',\n",
       " '655c65fa-426d-4885-8a50-3061c15a4ed1',\n",
       " '32149f1e-fc0f-4865-a283-eecbf2acdcb7',\n",
       " '9637bfa7-9947-4690-b27b-0496084fb582',\n",
       " 'c46c1b6c-fd6f-4cd9-802c-824dce4e32be',\n",
       " 'da5f8098-841b-47ae-a04f-faa67e67c83f',\n",
       " '9b0889dc-67a0-47fe-bc35-a0a95ce58b57',\n",
       " 'f8070e6f-ac33-426b-98d9-cd578cbfc5b7',\n",
       " 'a4d2fb0a-f06c-447a-b6fb-22294e95717e',\n",
       " '1e1121a1-9cf5-49e3-8c58-a2923b6dbe3e',\n",
       " 'd95eb57d-251b-4080-8f10-c7edabe331f8',\n",
       " 'b82402a7-11ec-48f5-bed0-5b2024e16267',\n",
       " '4473d29e-78a9-4a9e-8ce1-b4c42b034bef',\n",
       " 'ace5486b-29fe-4e8c-a205-b94a58ae590f',\n",
       " 'aa627c68-567f-4499-adc5-532c9066bc46',\n",
       " '3c0d8d8b-cadd-414f-80a6-233ff379df07',\n",
       " 'b192104a-a7a4-42b1-996d-19a7823b278a']"
      ]
     },
     "execution_count": 21,
     "metadata": {},
     "output_type": "execute_result"
    }
   ],
   "source": [
    "vector_local.add_documents(docs)"
   ]
  },
  {
   "cell_type": "code",
   "execution_count": 22,
   "metadata": {},
   "outputs": [
    {
     "data": {
      "text/plain": [
       "59"
      ]
     },
     "execution_count": 22,
     "metadata": {},
     "output_type": "execute_result"
    }
   ],
   "source": [
    "vector_local._client.get_collection(\"galo\").count()"
   ]
  }
 ],
 "metadata": {
  "kernelspec": {
   "display_name": "Python 3",
   "language": "python",
   "name": "python3"
  },
  "language_info": {
   "codemirror_mode": {
    "name": "ipython",
    "version": 3
   },
   "file_extension": ".py",
   "mimetype": "text/x-python",
   "name": "python",
   "nbconvert_exporter": "python",
   "pygments_lexer": "ipython3",
   "version": "3.11.5"
  }
 },
 "nbformat": 4,
 "nbformat_minor": 2
}
